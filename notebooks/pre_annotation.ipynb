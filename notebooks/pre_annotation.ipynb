{
 "cells": [
  {
   "attachments": {},
   "cell_type": "markdown",
   "metadata": {},
   "source": [
    "# Offline pre-annotation with Pixano\n",
    "\n",
    "## 1. Setting up\n",
    "\n",
    "### Load imports\n",
    "\n",
    "*This notebook requires the models implemented in the [pixano-inference](https://github.com/pixano/pixano-inference) module.*\n",
    "\n",
    "*You can install it with `pip install pixano-inference@git+https://github.com/pixano/pixano-inference`.*"
   ]
  },
  {
   "cell_type": "code",
   "execution_count": null,
   "metadata": {},
   "outputs": [],
   "source": [
    "from pathlib import Path\n",
    "\n",
    "from pixano import notebook\n",
    "from pixano_inference import offline_models"
   ]
  },
  {
   "attachments": {},
   "cell_type": "markdown",
   "metadata": {},
   "source": [
    "### Download checkpoints\n",
    "- Segment Anything Model:\n",
    "    - `default` or `vit_h`: [ViT-H SAM model](https://dl.fbaipublicfiles.com/segment_anything/sam_vit_h_4b8939.pth).\n",
    "    - `vit_l`: [ViT-L SAM model](https://dl.fbaipublicfiles.com/segment_anything/sam_vit_l_0b3195.pth).\n",
    "    - `vit_b`: [ViT-B SAM model](https://dl.fbaipublicfiles.com/segment_anything/sam_vit_b_01ec64.pth).\n",
    "    \n",
    "## 2. Genererating inferences\n",
    "\n",
    "### Select a model\n",
    "- Loading a model:\n",
    "    - Object Detection (COCO labels):\n",
    "        - `model = offline_models.YOLO(size=\"s\")`\n",
    "        - `model = offline_models.FasterRCNN()`\n",
    "        - `model = offline_models.EfficientDet()`\n",
    "    - Instance Segmentation (COCO labels):\n",
    "        - `model = offline_models.MaskRCNNv2()`\n",
    "\n",
    "    - Semantic Segmentation (VOC labels):\n",
    "        - `model = offline_models.DeepLabV3()`\n",
    "\n",
    "    - Segment Anything Model (No labels):\n",
    "        - `model = offline_models.SAM(checkpoint_path=Path(\"sam_vit_b_01ec64.pth\"), size=\"b\")`\n",
    "- Loading previously generated inferences with model ID:\n",
    "    - `model = offline_models.YOLO(size=\"s\", id=\"230414_094523_YOLOv5s\")`"
   ]
  },
  {
   "cell_type": "code",
   "execution_count": null,
   "metadata": {},
   "outputs": [],
   "source": [
    "model = offline_models.YOLO(size=\"s\")"
   ]
  },
  {
   "attachments": {},
   "cell_type": "markdown",
   "metadata": {},
   "source": [
    "### Select a dataset"
   ]
  },
  {
   "cell_type": "code",
   "execution_count": null,
   "metadata": {},
   "outputs": [],
   "source": [
    "library_dir = Path(\"datasets/\")\n",
    "dataset_dir = library_dir / \"coco_20\"\n",
    "\n",
    "views = [\"image\"]\n",
    "splits = [\"val\"]"
   ]
  },
  {
   "attachments": {},
   "cell_type": "markdown",
   "metadata": {},
   "source": [
    "### Generate inferences"
   ]
  },
  {
   "cell_type": "code",
   "execution_count": null,
   "metadata": {},
   "outputs": [],
   "source": [
    "inference_dir = model.process_dataset(\n",
    "    input_dir=dataset_dir,\n",
    "    views=views,\n",
    "    splits=splits,\n",
    "    batch_size=1,\n",
    "    threshold=0.1,\n",
    ")"
   ]
  },
  {
   "attachments": {},
   "cell_type": "markdown",
   "metadata": {},
   "source": [
    "## 3. Browsing the results\n",
    "\n",
    "You can browse the dataset in the Pixano Explorer and compare the inferences with the ground truths.\n",
    "\n",
    "*The explorer can take a second to start, please run the display function again if nothing shows up.*"
   ]
  },
  {
   "cell_type": "code",
   "execution_count": null,
   "metadata": {},
   "outputs": [],
   "source": [
    "%%bash --bg -s \"$library_dir\"\n",
    "pixano-explorer $1"
   ]
  },
  {
   "cell_type": "code",
   "execution_count": null,
   "metadata": {},
   "outputs": [],
   "source": [
    "notebook.display()"
   ]
  }
 ],
 "metadata": {
  "kernelspec": {
   "display_name": "px-next-4",
   "language": "python",
   "name": "python3"
  },
  "language_info": {
   "codemirror_mode": {
    "name": "ipython",
    "version": 3
   },
   "file_extension": ".py",
   "mimetype": "text/x-python",
   "name": "python",
   "nbconvert_exporter": "python",
   "pygments_lexer": "ipython3",
   "version": "3.10.11"
  },
  "orig_nbformat": 4,
  "vscode": {
   "interpreter": {
    "hash": "f623b0e0a6a406195aec46cc280f4376049e0849fb0bfdc719d0238ed961bcbb"
   }
  }
 },
 "nbformat": 4,
 "nbformat_minor": 2
}
