{
 "cells": [
  {
   "attachments": {},
   "cell_type": "markdown",
   "metadata": {},
   "source": [
    "# Export your datasets with Pixano [![Open in Colab](https://colab.research.google.com/assets/colab-badge.svg)](https://colab.research.google.com/github/pixano/pixano/blob/main/notebooks/dataset/export_dataset.ipynb)\n",
    "\n",
    "This notebook will help you exporting your datasets from Pixano format to COCO format.\n",
    "\n",
    "This will allow you to start using the annotations you created within Pixano for training or other applications.\n",
    "\n",
    "## 1. Setting up\n",
    "\n",
    "### Install dependencies\n",
    "\n",
    "This notebook requires installing `pixano`.\n",
    "\n",
    "If you are running this notebook on your computer, we strongly recommend creating a virtual environment for using Pixano like so:\n",
    "\n",
    "```shell\n",
    "conda create -n pixano_env python=3.10\n",
    "conda activate pixano_env\n",
    "```\n",
    "\n",
    "```shell\n",
    "pip install pixano\n",
    "```\n",
    "\n",
    "If you are running this notebook in Google Colab, run the cell below to install `pixano`."
   ]
  },
  {
   "cell_type": "code",
   "execution_count": 1,
   "metadata": {},
   "outputs": [],
   "source": [
    "try:\n",
    "  import google.colab\n",
    "  ENV = \"colab\"\n",
    "  !pip install pixano\n",
    "except:\n",
    "  ENV = \"jupyter\""
   ]
  },
  {
   "attachments": {},
   "cell_type": "markdown",
   "metadata": {},
   "source": [
    "### Load dependencies"
   ]
  },
  {
   "cell_type": "code",
   "execution_count": null,
   "metadata": {},
   "outputs": [],
   "source": [
    "from pathlib import Path\n",
    "\n",
    "from pixano.data import COCOLoader"
   ]
  },
  {
   "attachments": {},
   "cell_type": "markdown",
   "metadata": {},
   "source": [
    "## 2. Exporting a dataset\n",
    "\n",
    "Here, you will define your dataset information (name, description, split...), input directory and export directory. Then you will be able to export the dataset.\n",
    "\n",
    "### Export to COCO format dataset\n",
    "\n",
    "#### Set dataset information"
   ]
  },
  {
   "cell_type": "code",
   "execution_count": null,
   "metadata": {},
   "outputs": [],
   "source": [
    "# Dataset information\n",
    "name = \"COCO Instances\"\n",
    "description = \"COCO Instances Dataset\"\n",
    "splits = [\"train2017\", \"val2017\"]\n",
    "\n",
    "# Input information\n",
    "library_dir = Path(\"datasets/\")\n",
    "input_dir = library_dir / \"coco_instances\"\n",
    "\n",
    "# Output information\n",
    "export_dir = Path(\"pixano_coco\")"
   ]
  },
  {
   "attachments": {},
   "cell_type": "markdown",
   "metadata": {},
   "source": [
    "#### Export dataset"
   ]
  },
  {
   "cell_type": "code",
   "execution_count": null,
   "metadata": {},
   "outputs": [],
   "source": [
    "loader = COCOLoader(name, description, splits)\n",
    "loader.export_dataset(input_dir, export_dir)"
   ]
  }
 ],
 "metadata": {
  "kernelspec": {
   "display_name": "Python 3 (ipykernel)",
   "language": "python",
   "name": "python3"
  },
  "language_info": {
   "codemirror_mode": {
    "name": "ipython",
    "version": 3
   },
   "file_extension": ".py",
   "mimetype": "text/x-python",
   "name": "python",
   "nbconvert_exporter": "python",
   "pygments_lexer": "ipython3",
   "version": "3.10.11"
  },
  "vscode": {
   "interpreter": {
    "hash": "c6e4e9f98eb68ad3b7c296f83d20e6de614cb42e90992a65aa266555a3137d0d"
   }
  }
 },
 "nbformat": 4,
 "nbformat_minor": 2
}
