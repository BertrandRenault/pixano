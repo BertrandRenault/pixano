{
 "cells": [
  {
   "attachments": {},
   "cell_type": "markdown",
   "metadata": {},
   "source": [
    "# Converting your dataset with Pixano\n",
    "\n",
    "This notebook will help you converting your dataset to parquet format in order to access it with Pixano.\n",
    "\n",
    "## 1. Setting up\n",
    "\n",
    "### Load imports"
   ]
  },
  {
   "cell_type": "code",
   "execution_count": 2,
   "metadata": {},
   "outputs": [],
   "source": [
    "from pathlib import Path\n",
    "\n",
    "from pixano import notebook\n",
    "from pixano.data import COCOLoader, ImageLoader"
   ]
  },
  {
   "attachments": {},
   "cell_type": "markdown",
   "metadata": {},
   "source": [
    "## 2. Converting dataset\n",
    "\n",
    "### Set a dataset\n",
    "\n",
    "Please provide your dataset information and the target directory."
   ]
  },
  {
   "cell_type": "code",
   "execution_count": 3,
   "metadata": {},
   "outputs": [],
   "source": [
    "name = \"COCO Instances\"\n",
    "description = \"COCO Instances Dataset\"\n",
    "\n",
    "library_dir = Path(\"datasets/\")\n",
    "target_dir = library_dir / \"coco_instances\"\n",
    "\n",
    "splits = [\"train2017\", \"val2017\"]"
   ]
  },
  {
   "attachments": {},
   "cell_type": "markdown",
   "metadata": {},
   "source": [
    "### Convert the dataset\n",
    "\n",
    "*Please note: After generating the dataset, the media directories like \"image\" will be automatically moved inside the target directory so they can be accessed by Pixano.*\n",
    "\n",
    "#### a. Image only dataset\n",
    "If your dataset contains only images, you can use our predefined ImageLoader to convert it to parquet format."
   ]
  },
  {
   "cell_type": "code",
   "execution_count": null,
   "metadata": {},
   "outputs": [],
   "source": [
    "source_dirs = {\n",
    "    \"image\": Path(\"coco/media/image\"),\n",
    "}\n",
    "\n",
    "loader = ImageLoader(name, description, source_dirs, target_dir, splits)\n",
    "loader.convert_dataset()"
   ]
  },
  {
   "attachments": {},
   "cell_type": "markdown",
   "metadata": {},
   "source": [
    "#### b. COCO-like image dataset\n",
    "\n",
    "If your dataset contains annotations in COCO format, you can use our predefined COCOLoader to convert it to parquet format."
   ]
  },
  {
   "cell_type": "code",
   "execution_count": 4,
   "metadata": {},
   "outputs": [],
   "source": [
    "source_dirs = {\n",
    "    \"image\": Path(\"coco/media/image\"),\n",
    "    \"objects\": Path(\"coco/annotations\"),\n",
    "}\n",
    "\n",
    "loader = COCOLoader(name, description, source_dirs, target_dir, splits)\n",
    "loader.convert_dataset()"
   ]
  },
  {
   "attachments": {},
   "cell_type": "markdown",
   "metadata": {},
   "source": [
    "#### c. Custom format dataset\n",
    "\n",
    "If your dataset contains media or annotations in a custom format, you will have to define your own loader to convert it to parquet format.\n",
    "\n",
    "Please take a look at the `template_loader.py` file next to this notebook for inspiration on how to build your own."
   ]
  },
  {
   "attachments": {},
   "cell_type": "markdown",
   "metadata": {},
   "source": [
    "## 3. Browsing the dataset\n",
    "\n",
    "You can now browse the converted dataset in the Pixano Explorer.\n",
    "\n",
    "*Start the explorer cell, then stop it to run the display function.\\\n",
    "Please restart the notebook when you're done to release the URL used by Pixano Explorer.*"
   ]
  },
  {
   "cell_type": "code",
   "execution_count": null,
   "metadata": {},
   "outputs": [],
   "source": [
    "%%sh -s \"$library_dir\"\n",
    "pixano-explorer $1"
   ]
  },
  {
   "cell_type": "code",
   "execution_count": null,
   "metadata": {},
   "outputs": [],
   "source": [
    "notebook.display()"
   ]
  }
 ],
 "metadata": {
  "kernelspec": {
   "display_name": "Python 3 (ipykernel)",
   "language": "python",
   "name": "python3"
  },
  "language_info": {
   "codemirror_mode": {
    "name": "ipython",
    "version": 3
   },
   "file_extension": ".py",
   "mimetype": "text/x-python",
   "name": "python",
   "nbconvert_exporter": "python",
   "pygments_lexer": "ipython3",
   "version": "3.10.11"
  },
  "vscode": {
   "interpreter": {
    "hash": "c6e4e9f98eb68ad3b7c296f83d20e6de614cb42e90992a65aa266555a3137d0d"
   }
  }
 },
 "nbformat": 4,
 "nbformat_minor": 2
}
