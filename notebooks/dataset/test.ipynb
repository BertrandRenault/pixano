{
 "cells": [
  {
   "cell_type": "markdown",
   "metadata": {},
   "source": [
    "# Pixano Converter"
   ]
  },
  {
   "cell_type": "code",
   "execution_count": 1,
   "metadata": {},
   "outputs": [
    {
     "data": {
      "application/vnd.jupyter.widget-view+json": {
       "model_id": "2f177de74bdc460f9b66e7ebcbfc0b0e",
       "version_major": 2,
       "version_minor": 0
      },
      "text/plain": [
       "Converting val split: 0it [00:00, ?it/s]"
      ]
     },
     "metadata": {},
     "output_type": "display_data"
    },
    {
     "ename": "TypeError",
     "evalue": "expected string or bytes-like object, got 'int'",
     "output_type": "error",
     "traceback": [
      "\u001b[0;31m---------------------------------------------------------------------------\u001b[0m",
      "\u001b[0;31mTypeError\u001b[0m                                 Traceback (most recent call last)",
      "Cell \u001b[0;32mIn[1], line 23\u001b[0m\n\u001b[1;32m     14\u001b[0m target_dir \u001b[39m=\u001b[39m Path(\u001b[39m\"\u001b[39m\u001b[39m/home/brenault/next-pixano/library/LegPixTest/\u001b[39m\u001b[39m\"\u001b[39m)\n\u001b[1;32m     16\u001b[0m loader \u001b[39m=\u001b[39m LegacyPixanoLoader(\n\u001b[1;32m     17\u001b[0m     name\u001b[39m=\u001b[39m\u001b[39m\"\u001b[39m\u001b[39mLegacyPixanoTest\u001b[39m\u001b[39m\"\u001b[39m,\n\u001b[1;32m     18\u001b[0m     description\u001b[39m=\u001b[39m\u001b[39m\"\u001b[39m\u001b[39mVDP cam4 seq 20180725_094046\u001b[39m\u001b[39m\"\u001b[39m,\n\u001b[0;32m   (...)\u001b[0m\n\u001b[1;32m     21\u001b[0m     splits\u001b[39m=\u001b[39m[\u001b[39m\"\u001b[39m\u001b[39mval\u001b[39m\u001b[39m\"\u001b[39m],\n\u001b[1;32m     22\u001b[0m )\n\u001b[0;32m---> 23\u001b[0m loader\u001b[39m.\u001b[39;49mimport_dataset({\u001b[39m\"\u001b[39;49m\u001b[39mcam_4\u001b[39;49m\u001b[39m\"\u001b[39;49m: json_object_dir}, target_dir)\n",
      "File \u001b[0;32m~/next-pixano/pixano/pixano/data/data_loader.py:391\u001b[0m, in \u001b[0;36mDataLoader.import_dataset\u001b[0;34m(self, input_dirs, import_dir, portable, batch_size)\u001b[0m\n\u001b[1;32m    387\u001b[0m batches \u001b[39m=\u001b[39m _batch_dict(\n\u001b[1;32m    388\u001b[0m     \u001b[39mself\u001b[39m\u001b[39m.\u001b[39mimport_row(input_dirs, split, portable), batch_size\n\u001b[1;32m    389\u001b[0m )\n\u001b[1;32m    390\u001b[0m \u001b[39m# Iterate on batches\u001b[39;00m\n\u001b[0;32m--> 391\u001b[0m \u001b[39mfor\u001b[39;00m i, batch \u001b[39min\u001b[39;00m tqdm(\u001b[39menumerate\u001b[39m(batches), desc\u001b[39m=\u001b[39m\u001b[39mf\u001b[39m\u001b[39m\"\u001b[39m\u001b[39mConverting \u001b[39m\u001b[39m{\u001b[39;00msplit\u001b[39m}\u001b[39;00m\u001b[39m split\u001b[39m\u001b[39m\"\u001b[39m):\n\u001b[1;32m    392\u001b[0m     \u001b[39m# Append batch categories\u001b[39;00m\n\u001b[1;32m    393\u001b[0m     \u001b[39mfor\u001b[39;00m field \u001b[39min\u001b[39;00m \u001b[39mself\u001b[39m\u001b[39m.\u001b[39mschema:\n\u001b[1;32m    394\u001b[0m         \u001b[39m# If column has annotations\u001b[39;00m\n\u001b[1;32m    395\u001b[0m         \u001b[39m# TODO: Change to checking type when ObjectAnnotationType is rebuilt\u001b[39;00m\n\u001b[1;32m    396\u001b[0m         \u001b[39mif\u001b[39;00m field\u001b[39m.\u001b[39mname \u001b[39m==\u001b[39m \u001b[39m\"\u001b[39m\u001b[39mobjects\u001b[39m\u001b[39m\"\u001b[39m:\n",
      "File \u001b[0;32m~/anaconda3/envs/pixano-dev/lib/python3.11/site-packages/tqdm/notebook.py:259\u001b[0m, in \u001b[0;36mtqdm_notebook.__iter__\u001b[0;34m(self)\u001b[0m\n\u001b[1;32m    257\u001b[0m \u001b[39mtry\u001b[39;00m:\n\u001b[1;32m    258\u001b[0m     it \u001b[39m=\u001b[39m \u001b[39msuper\u001b[39m(tqdm_notebook, \u001b[39mself\u001b[39m)\u001b[39m.\u001b[39m\u001b[39m__iter__\u001b[39m()\n\u001b[0;32m--> 259\u001b[0m     \u001b[39mfor\u001b[39;00m obj \u001b[39min\u001b[39;00m it:\n\u001b[1;32m    260\u001b[0m         \u001b[39m# return super(tqdm...) will not catch exception\u001b[39;00m\n\u001b[1;32m    261\u001b[0m         \u001b[39myield\u001b[39;00m obj\n\u001b[1;32m    262\u001b[0m \u001b[39m# NB: except ... [ as ...] breaks IPython async KeyboardInterrupt\u001b[39;00m\n",
      "File \u001b[0;32m~/anaconda3/envs/pixano-dev/lib/python3.11/site-packages/tqdm/std.py:1195\u001b[0m, in \u001b[0;36mtqdm.__iter__\u001b[0;34m(self)\u001b[0m\n\u001b[1;32m   1192\u001b[0m time \u001b[39m=\u001b[39m \u001b[39mself\u001b[39m\u001b[39m.\u001b[39m_time\n\u001b[1;32m   1194\u001b[0m \u001b[39mtry\u001b[39;00m:\n\u001b[0;32m-> 1195\u001b[0m     \u001b[39mfor\u001b[39;00m obj \u001b[39min\u001b[39;00m iterable:\n\u001b[1;32m   1196\u001b[0m         \u001b[39myield\u001b[39;00m obj\n\u001b[1;32m   1197\u001b[0m         \u001b[39m# Update and possibly print the progressbar.\u001b[39;00m\n\u001b[1;32m   1198\u001b[0m         \u001b[39m# Note: does not call self.update(1) for speed optimisation.\u001b[39;00m\n",
      "File \u001b[0;32m~/next-pixano/pixano/pixano/data/data_loader.py:51\u001b[0m, in \u001b[0;36m_batch_dict\u001b[0;34m(iterable, batch_size)\u001b[0m\n\u001b[1;32m     40\u001b[0m \u001b[39m\u001b[39m\u001b[39m\"\"\"Batch dicts\u001b[39;00m\n\u001b[1;32m     41\u001b[0m \n\u001b[1;32m     42\u001b[0m \u001b[39mArgs:\u001b[39;00m\n\u001b[0;32m   (...)\u001b[0m\n\u001b[1;32m     47\u001b[0m \u001b[39m    Generator[list]: Iterable in batches\u001b[39;00m\n\u001b[1;32m     48\u001b[0m \u001b[39m\"\"\"\u001b[39;00m\n\u001b[1;32m     50\u001b[0m it \u001b[39m=\u001b[39m \u001b[39miter\u001b[39m(iterable)\n\u001b[0;32m---> 51\u001b[0m \u001b[39mwhile\u001b[39;00m batch \u001b[39m:=\u001b[39m \u001b[39mlist\u001b[39;49m(islice(it, batch_size)):\n\u001b[1;32m     52\u001b[0m     batch_dict \u001b[39m=\u001b[39m defaultdict(\u001b[39mlist\u001b[39m)\n\u001b[1;32m     53\u001b[0m     \u001b[39mfor\u001b[39;00m d \u001b[39min\u001b[39;00m batch:\n",
      "File \u001b[0;32m~/next-pixano/pixano/pixano/data/legacy_pixano_loader.py:102\u001b[0m, in \u001b[0;36mLegacyPixanoLoader.import_row\u001b[0;34m(self, input_dirs, split, portable)\u001b[0m\n\u001b[1;32m     99\u001b[0m     annotations[ann[\u001b[39m\"\u001b[39m\u001b[39mtimestamp\u001b[39m\u001b[39m\"\u001b[39m]]\u001b[39m.\u001b[39mappend(ann)\n\u001b[1;32m    101\u001b[0m \u001b[39m# Process rows\u001b[39;00m\n\u001b[0;32m--> 102\u001b[0m \u001b[39mfor\u001b[39;00m im \u001b[39min\u001b[39;00m \u001b[39msorted\u001b[39m(pix_json[\u001b[39m\"\u001b[39m\u001b[39mdata\u001b[39m\u001b[39m\"\u001b[39m][\u001b[39m\"\u001b[39m\u001b[39mchildren\u001b[39m\u001b[39m\"\u001b[39m], key\u001b[39m=\u001b[39m\u001b[39mlambda\u001b[39;00m x: natural_key(x[\u001b[39m\"\u001b[39m\u001b[39mtimestamp\u001b[39m\u001b[39m\"\u001b[39m])):\n\u001b[1;32m    103\u001b[0m     \u001b[39mprint\u001b[39m(\u001b[39m\"\u001b[39m\u001b[39mqaza\u001b[39m\u001b[39m\"\u001b[39m, im)\n\u001b[1;32m    105\u001b[0m     \u001b[39m# Load image annotations\u001b[39;00m\n",
      "File \u001b[0;32m~/next-pixano/pixano/pixano/data/legacy_pixano_loader.py:102\u001b[0m, in \u001b[0;36mLegacyPixanoLoader.import_row.<locals>.<lambda>\u001b[0;34m(x)\u001b[0m\n\u001b[1;32m     99\u001b[0m     annotations[ann[\u001b[39m\"\u001b[39m\u001b[39mtimestamp\u001b[39m\u001b[39m\"\u001b[39m]]\u001b[39m.\u001b[39mappend(ann)\n\u001b[1;32m    101\u001b[0m \u001b[39m# Process rows\u001b[39;00m\n\u001b[0;32m--> 102\u001b[0m \u001b[39mfor\u001b[39;00m im \u001b[39min\u001b[39;00m \u001b[39msorted\u001b[39m(pix_json[\u001b[39m\"\u001b[39m\u001b[39mdata\u001b[39m\u001b[39m\"\u001b[39m][\u001b[39m\"\u001b[39m\u001b[39mchildren\u001b[39m\u001b[39m\"\u001b[39m], key\u001b[39m=\u001b[39m\u001b[39mlambda\u001b[39;00m x: natural_key(x[\u001b[39m\"\u001b[39;49m\u001b[39mtimestamp\u001b[39;49m\u001b[39m\"\u001b[39;49m])):\n\u001b[1;32m    103\u001b[0m     \u001b[39mprint\u001b[39m(\u001b[39m\"\u001b[39m\u001b[39mqaza\u001b[39m\u001b[39m\"\u001b[39m, im)\n\u001b[1;32m    105\u001b[0m     \u001b[39m# Load image annotations\u001b[39;00m\n",
      "File \u001b[0;32m~/next-pixano/pixano/pixano/transforms/__init__.py:81\u001b[0m, in \u001b[0;36mnatural_key\u001b[0;34m(string)\u001b[0m\n\u001b[1;32m     72\u001b[0m \u001b[39mdef\u001b[39;00m \u001b[39mnatural_key\u001b[39m(string: \u001b[39mstr\u001b[39m) \u001b[39m-\u001b[39m\u001b[39m>\u001b[39m \u001b[39mlist\u001b[39m:\n\u001b[1;32m     73\u001b[0m \u001b[39m    \u001b[39m\u001b[39m\"\"\"Return key for string natural sort\u001b[39;00m\n\u001b[1;32m     74\u001b[0m \n\u001b[1;32m     75\u001b[0m \u001b[39m    Args:\u001b[39;00m\n\u001b[0;32m   (...)\u001b[0m\n\u001b[1;32m     79\u001b[0m \u001b[39m        list: Sort key\u001b[39;00m\n\u001b[1;32m     80\u001b[0m \u001b[39m    \"\"\"\u001b[39;00m\n\u001b[0;32m---> 81\u001b[0m     \u001b[39mreturn\u001b[39;00m [\u001b[39mint\u001b[39m(s) \u001b[39mif\u001b[39;00m s\u001b[39m.\u001b[39misdecimal() \u001b[39melse\u001b[39;00m s \u001b[39mfor\u001b[39;00m s \u001b[39min\u001b[39;00m re\u001b[39m.\u001b[39;49msplit(\u001b[39mr\u001b[39;49m\u001b[39m\"\u001b[39;49m\u001b[39m(\u001b[39;49m\u001b[39m\\\u001b[39;49m\u001b[39md+)\u001b[39;49m\u001b[39m\"\u001b[39;49m, string)]\n",
      "File \u001b[0;32m~/anaconda3/envs/pixano-dev/lib/python3.11/re/__init__.py:206\u001b[0m, in \u001b[0;36msplit\u001b[0;34m(pattern, string, maxsplit, flags)\u001b[0m\n\u001b[1;32m    198\u001b[0m \u001b[39mdef\u001b[39;00m \u001b[39msplit\u001b[39m(pattern, string, maxsplit\u001b[39m=\u001b[39m\u001b[39m0\u001b[39m, flags\u001b[39m=\u001b[39m\u001b[39m0\u001b[39m):\n\u001b[1;32m    199\u001b[0m \u001b[39m    \u001b[39m\u001b[39m\"\"\"Split the source string by the occurrences of the pattern,\u001b[39;00m\n\u001b[1;32m    200\u001b[0m \u001b[39m    returning a list containing the resulting substrings.  If\u001b[39;00m\n\u001b[1;32m    201\u001b[0m \u001b[39m    capturing parentheses are used in pattern, then the text of all\u001b[39;00m\n\u001b[0;32m   (...)\u001b[0m\n\u001b[1;32m    204\u001b[0m \u001b[39m    and the remainder of the string is returned as the final element\u001b[39;00m\n\u001b[1;32m    205\u001b[0m \u001b[39m    of the list.\"\"\"\u001b[39;00m\n\u001b[0;32m--> 206\u001b[0m     \u001b[39mreturn\u001b[39;00m _compile(pattern, flags)\u001b[39m.\u001b[39msplit(string, maxsplit)\n",
      "\u001b[0;31mTypeError\u001b[0m: expected string or bytes-like object, got 'int'"
     ]
    }
   ],
   "source": [
    "# single view, single split\n",
    "\n",
    "import sys\n",
    "sys.path.append(\"/home/brenault/next-pixano/pixano/pixano/\")\n",
    "\n",
    "from pathlib import Path\n",
    "import pyarrow as pa\n",
    "from pixano.core import arrow_types\n",
    "from pixano.data import LegacyPixanoLoader\n",
    "\n",
    "workspace=Path(\"/home/brenault/pixano/workspace/example_Pixano\")\n",
    "json_object_dir = workspace / Path(\"object2d_perspective_test_sync/object2d\")\n",
    "json_files = {\"cam_4\":\"20180725_094046_cam_4.json\"}\n",
    "target_dir = Path(\"/home/brenault/next-pixano/library/LegPixTest/\")\n",
    "\n",
    "loader = LegacyPixanoLoader(\n",
    "    name=\"LegacyPixanoTest\",\n",
    "    description=\"VDP cam4 seq 20180725_094046\",\n",
    "    views=[\"cam_4\"],\n",
    "    json_files=json_files,\n",
    "    splits=[\"val\"],\n",
    ")\n",
    "loader.import_dataset({\"cam_4\": json_object_dir}, target_dir)"
   ]
  }
 ],
 "metadata": {
  "kernelspec": {
   "display_name": "pixano-dev",
   "language": "python",
   "name": "python3"
  },
  "language_info": {
   "codemirror_mode": {
    "name": "ipython",
    "version": 3
   },
   "file_extension": ".py",
   "mimetype": "text/x-python",
   "name": "python",
   "nbconvert_exporter": "python",
   "pygments_lexer": "ipython3",
   "version": "3.11.3"
  },
  "orig_nbformat": 4
 },
 "nbformat": 4,
 "nbformat_minor": 2
}
