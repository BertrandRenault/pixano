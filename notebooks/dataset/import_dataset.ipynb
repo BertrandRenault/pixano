{
 "cells": [
  {
   "attachments": {},
   "cell_type": "markdown",
   "metadata": {},
   "source": [
    "# Importing your datasets with Pixano\n",
    "\n",
    "This notebook will help you importing your datasets from various formats to Pixano format.\n",
    "\n",
    "This will allow you to access them with the Pixano Explorer and the Pixano Annotator.\n",
    "\n",
    "## 1. Setting up\n",
    "\n",
    "### Install dependencies\n",
    "\n",
    "This notebook requires installing `pixano`.\n",
    "\n",
    "If you are running this notebook on your computer, we strongly recommend creating a virtual environment for using Pixano like so:\n",
    "\n",
    "```shell\n",
    "conda create -n pixano_env python=3.10\n",
    "conda activate pixano_env\n",
    "```\n",
    "\n",
    "```shell\n",
    "pip install pixano\n",
    "```\n",
    "\n",
    "If you are running this notebook in Google Colab, run the cell below to install `pixano`."
   ]
  },
  {
   "cell_type": "code",
   "execution_count": null,
   "metadata": {},
   "outputs": [],
   "source": [
    "try:\n",
    "  import google.colab\n",
    "  ENV = \"colab\"\n",
    "  !pip install pixano\n",
    "except:\n",
    "  ENV = \"jupyter\""
   ]
  },
  {
   "attachments": {},
   "cell_type": "markdown",
   "metadata": {},
   "source": [
    "### Load dependencies"
   ]
  },
  {
   "cell_type": "code",
   "execution_count": null,
   "metadata": {},
   "outputs": [],
   "source": [
    "from pathlib import Path\n",
    "\n",
    "from pixano.apps import ExplorerApp\n",
    "from pixano.data import COCOLoader, ImageLoader"
   ]
  },
  {
   "attachments": {},
   "cell_type": "markdown",
   "metadata": {},
   "source": [
    "## 2. Importing a dataset\n",
    "\n",
    "### Set the dataset\n",
    "\n",
    "To get started, please provide information on your dataset (name, description, splits).\n",
    "\n",
    "Select the path of your Pixano dataset library, and the target import directory for your dataset inside that library."
   ]
  },
  {
   "cell_type": "code",
   "execution_count": null,
   "metadata": {},
   "outputs": [],
   "source": [
    "name = \"COCO Instances\"\n",
    "description = \"COCO Instances Dataset\"\n",
    "splits = [\"train2017\", \"val2017\"]\n",
    "\n",
    "library_dir = Path(\"datasets/\")\n",
    "import_dir = library_dir / \"coco_instances\""
   ]
  },
  {
   "attachments": {},
   "cell_type": "markdown",
   "metadata": {},
   "source": [
    "### Import the dataset\n",
    "\n",
    "Here, you will define the source directories for your datasets, such as images and annotations, and launch the dataset import.\n",
    "\n",
    "How Pixano handles **annotations**:\n",
    "- Annotations will be **transformed to Pixano format** and stored in a database while **keeping the original files intact**.\n",
    "\n",
    "How Pixano handles **media files**:\n",
    "- By default, media files such as images and videos will be **referred to using their current path or URL**. This is the best option for **large datasets** and datasets on **remote servers** and **S3 buckets**.\n",
    "- You can use the `portable` option to **move or download the media files** inside the Pixano format dataset. This is the best option for **smaller datasets**.\n",
    "\n",
    "#### a. Image only dataset\n",
    "If your dataset contains only images, you can use our predefined ImageLoader to import it to Pixano format."
   ]
  },
  {
   "cell_type": "code",
   "execution_count": null,
   "metadata": {},
   "outputs": [],
   "source": [
    "input_dirs = {\n",
    "    \"image\": Path(\"coco/media/image\"),\n",
    "}\n",
    "\n",
    "loader = ImageLoader(name, description, splits)\n",
    "loader.import_dataset(input_dirs, import_dir, portable=False)"
   ]
  },
  {
   "attachments": {},
   "cell_type": "markdown",
   "metadata": {},
   "source": [
    "#### b. COCO-like image dataset\n",
    "\n",
    "If your dataset contains images and annotations in COCO format, you can use our predefined COCOLoader to import it to Pixano format."
   ]
  },
  {
   "cell_type": "code",
   "execution_count": null,
   "metadata": {},
   "outputs": [],
   "source": [
    "input_dirs = {\n",
    "    \"image\": Path(\"coco/media/image\"),\n",
    "    \"objects\": Path(\"coco/annotations\"),\n",
    "}\n",
    "\n",
    "loader = COCOLoader(name, description, splits)\n",
    "loader.import_dataset(input_dirs, import_dir, portable=False)"
   ]
  },
  {
   "attachments": {},
   "cell_type": "markdown",
   "metadata": {},
   "source": [
    "#### c. Custom format dataset\n",
    "\n",
    "If your dataset contains media or annotations in a custom format, you will have to define your own loader to import it to Pixano format.\n",
    "\n",
    "Please take a look at the `template_loader.py` file next to this notebook for inspiration on how to build your own.\n",
    "\n",
    "Also do not hesitate to reach out to us if you think Pixano could benefit from a loader for your dataset, and we will try to add it in a future version. "
   ]
  },
  {
   "attachments": {},
   "cell_type": "markdown",
   "metadata": {},
   "source": [
    "## 3. Browsing the dataset\n",
    "\n",
    "With the import complete, you can now browse your dataset with the Pixano Explorer.\n",
    "\n",
    "You can stop the Explorer app by restarting the notebook."
   ]
  },
  {
   "cell_type": "code",
   "execution_count": null,
   "metadata": {},
   "outputs": [],
   "source": [
    "explorer = ExplorerApp(library_dir)"
   ]
  },
  {
   "cell_type": "code",
   "execution_count": null,
   "metadata": {},
   "outputs": [],
   "source": [
    "explorer.display()"
   ]
  }
 ],
 "metadata": {
  "kernelspec": {
   "display_name": "Python 3 (ipykernel)",
   "language": "python",
   "name": "python3"
  },
  "language_info": {
   "codemirror_mode": {
    "name": "ipython",
    "version": 3
   },
   "file_extension": ".py",
   "mimetype": "text/x-python",
   "name": "python",
   "nbconvert_exporter": "python",
   "pygments_lexer": "ipython3",
   "version": "3.10.11"
  },
  "vscode": {
   "interpreter": {
    "hash": "c6e4e9f98eb68ad3b7c296f83d20e6de614cb42e90992a65aa266555a3137d0d"
   }
  }
 },
 "nbformat": 4,
 "nbformat_minor": 2
}
