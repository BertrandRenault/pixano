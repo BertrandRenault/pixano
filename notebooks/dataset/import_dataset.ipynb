{
 "cells": [
  {
   "attachments": {},
   "cell_type": "markdown",
   "metadata": {},
   "source": [
    "# Importing your datasets with Pixano\n",
    "\n",
    "This notebook will help you importing your datasets to Pixano format.\n",
    "\n",
    "This will allow you to access them with the Pixano Explorer and the Pixano Annotator.\n",
    "\n",
    "## 1. Setting up\n",
    "\n",
    "### Load imports"
   ]
  },
  {
   "cell_type": "code",
   "execution_count": 2,
   "metadata": {},
   "outputs": [],
   "source": [
    "from pathlib import Path\n",
    "\n",
    "from pixano import notebook\n",
    "from pixano.data import COCOLoader, ImageLoader"
   ]
  },
  {
   "attachments": {},
   "cell_type": "markdown",
   "metadata": {},
   "source": [
    "## 2. Importing dataset\n",
    "\n",
    "### Set a dataset\n",
    "\n",
    "To get started, please provide information on your dataset (name, description, splits).\n",
    "\n",
    "Select a path for your Pixano dataset library, and the target directory for your dataset inside that library."
   ]
  },
  {
   "cell_type": "code",
   "execution_count": 3,
   "metadata": {},
   "outputs": [],
   "source": [
    "name = \"COCO Instances\"\n",
    "description = \"COCO Instances Dataset\"\n",
    "splits = [\"train2017\", \"val2017\"]\n",
    "\n",
    "library_dir = Path(\"datasets/\")\n",
    "target_dir = library_dir / \"coco_instances\""
   ]
  },
  {
   "attachments": {},
   "cell_type": "markdown",
   "metadata": {},
   "source": [
    "### Import the dataset\n",
    "\n",
    "Here, you will define the source directories for your datasets, such as images and annotations, and launch the dataset import.\n",
    "\n",
    "- Annotations will be transformed to Pixano format and stored in a database while keeping your original annotation files intact.\n",
    "- Media directories such as images will be automatically moved inside your dataset target directory, so that Pixano is able to access them.\n",
    "\n",
    "#### a. Image only dataset\n",
    "If your dataset contains only images, you can use our predefined ImageLoader to import it to Pixano format."
   ]
  },
  {
   "cell_type": "code",
   "execution_count": null,
   "metadata": {},
   "outputs": [],
   "source": [
    "source_dirs = {\n",
    "    \"image\": Path(\"coco/media/image\"),\n",
    "}\n",
    "\n",
    "loader = ImageLoader(name, description, source_dirs, target_dir, splits)\n",
    "loader.import_dataset()"
   ]
  },
  {
   "attachments": {},
   "cell_type": "markdown",
   "metadata": {},
   "source": [
    "#### b. COCO-like image dataset\n",
    "\n",
    "If your dataset contains images and annotations in COCO format, you can use our predefined COCOLoader to import it to Pixano format."
   ]
  },
  {
   "cell_type": "code",
   "execution_count": 4,
   "metadata": {},
   "outputs": [],
   "source": [
    "source_dirs = {\n",
    "    \"image\": Path(\"coco/media/image\"),\n",
    "    \"objects\": Path(\"coco/annotations\"),\n",
    "}\n",
    "\n",
    "loader = COCOLoader(name, description, source_dirs, target_dir, splits)\n",
    "loader.import_dataset()"
   ]
  },
  {
   "attachments": {},
   "cell_type": "markdown",
   "metadata": {},
   "source": [
    "#### c. Custom format dataset\n",
    "\n",
    "If your dataset contains media or annotations in a custom format, you will have to define your own loader to import it to Pixano format.\n",
    "\n",
    "Please take a look at the `template_loader.py` file next to this notebook for inspiration on how to build your own.\n",
    "\n",
    "Also do not hesitate to reach out to us if you think Pixano could benefit from a loader for your dataset, and we will try to add it in a future version. "
   ]
  },
  {
   "attachments": {},
   "cell_type": "markdown",
   "metadata": {},
   "source": [
    "## 3. Browsing the dataset\n",
    "\n",
    "With the import complete, you can now browse your dataset with the Pixano Explorer.\n",
    "\n",
    "Start the explorer cell, then stop it to run the display cell below. When you're done, please restart this notebook to stop the Pixano Explorer."
   ]
  },
  {
   "cell_type": "code",
   "execution_count": null,
   "metadata": {},
   "outputs": [],
   "source": [
    "%%sh -s \"$library_dir\"\n",
    "pixano-explorer $1"
   ]
  },
  {
   "cell_type": "code",
   "execution_count": null,
   "metadata": {},
   "outputs": [],
   "source": [
    "notebook.display()"
   ]
  }
 ],
 "metadata": {
  "kernelspec": {
   "display_name": "Python 3 (ipykernel)",
   "language": "python",
   "name": "python3"
  },
  "language_info": {
   "codemirror_mode": {
    "name": "ipython",
    "version": 3
   },
   "file_extension": ".py",
   "mimetype": "text/x-python",
   "name": "python",
   "nbconvert_exporter": "python",
   "pygments_lexer": "ipython3",
   "version": "3.10.11"
  },
  "vscode": {
   "interpreter": {
    "hash": "c6e4e9f98eb68ad3b7c296f83d20e6de614cb42e90992a65aa266555a3137d0d"
   }
  }
 },
 "nbformat": 4,
 "nbformat_minor": 2
}
