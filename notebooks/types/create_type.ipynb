{
 "cells": [
  {
   "attachments": {},
   "cell_type": "markdown",
   "metadata": {},
   "source": [
    "# Create your custom types with Pixano\n",
    "\n",
    "This notebook will help you create your own custom Python types and their associated PyArrow types, for storing your data exactly how you want to with Pixano."
   ]
  },
  {
   "cell_type": "code",
   "execution_count": null,
   "metadata": {},
   "outputs": [],
   "source": [
    "import tempfile\n",
    "from typing import Optional\n",
    "\n",
    "import pyarrow as pa\n",
    "import pyarrow.parquet as pq\n",
    "from pydantic import BaseModel\n",
    "\n",
    "from pixano.core import BBox, BBoxType, PixanoType, createPyArrowType"
   ]
  },
  {
   "attachments": {},
   "cell_type": "markdown",
   "metadata": {},
   "source": [
    "## 1. Create a custom type\n",
    "\n",
    "- Use `pixano.core.PixanoType` and `pydantic.BaseModel` as parent classes\n",
    "- Define your attributes and methods\n",
    "- Override the `to_struct` method to define what to export inside your PyArrow format dataset files\n",
    "\n",
    "Note that PixanoType provides you with generic `from_dict` and `to_dict` methods based on the fields you define in `to_struct`.\n"
   ]
  },
  {
   "cell_type": "code",
   "execution_count": null,
   "metadata": {},
   "outputs": [],
   "source": [
    "class Camera(PixanoType, BaseModel):\n",
    "    \"\"\"Camera type\n",
    "\n",
    "    Attributes:\n",
    "        depth_scale (float): Depth scale\n",
    "        cam_K (list[float]): Camera matrix K\n",
    "        cam_R_w2c (list[float], optional): 3*3 orientation matrix\n",
    "        cam_t_w2c (list[float], optional): 3*1 translation matrix\n",
    "    \"\"\"\n",
    "\n",
    "    depth_scale: float\n",
    "    cam_K: list[float]\n",
    "    cam_R_w2c: Optional[list[float]]\n",
    "    cam_t_w2c: Optional[list[float]]\n",
    "\n",
    "    def __init__(\n",
    "        self,\n",
    "        depth_scale: float,\n",
    "        cam_K: list[float],\n",
    "        cam_R_w2c: list[float] = None,\n",
    "        cam_t_w2c: list[float] = None,\n",
    "    ):\n",
    "        \"\"\"Initialize Camera\n",
    "\n",
    "        Args:\n",
    "            depth_scale (float): Depth scale\n",
    "            cam_K (list[float]): Camera matrix K\n",
    "            cam_R_w2c (list[float], optional): 3*3 orientation matrix. Defaults to None.\n",
    "            cam_t_w2c (list[float], optional): 3*1 translation matrix. Defaults to None.\n",
    "        \"\"\"\n",
    "\n",
    "        # Define public attributes through Pydantic BaseModel\n",
    "        super().__init__(\n",
    "            depth_scale=depth_scale,\n",
    "            cam_K=cam_K,\n",
    "            cam_R_w2c=cam_R_w2c,\n",
    "            cam_t_w2c=cam_t_w2c,\n",
    "        )\n",
    "\n",
    "    @staticmethod\n",
    "    def to_struct() -> pa.StructType:\n",
    "        \"\"\"Return Camera type as PyArrow Struct\n",
    "\n",
    "        Returns:\n",
    "            pa.StructType: Custom type corresponding PyArrow Struct\n",
    "        \"\"\"\n",
    "\n",
    "        return pa.struct(\n",
    "            [\n",
    "                pa.field(\"depth_scale\", pa.float64()),\n",
    "                pa.field(\"cam_K\", pa.list_(pa.float64())),\n",
    "                pa.field(\"cam_R_w2c\", pa.list_(pa.float64())),\n",
    "                pa.field(\"cam_t_w2c\", pa.list_(pa.float64())),\n",
    "            ]\n",
    "        )"
   ]
  },
  {
   "cell_type": "markdown",
   "metadata": {},
   "source": [
    "Test your newly created type to make sure it works:"
   ]
  },
  {
   "cell_type": "code",
   "execution_count": null,
   "metadata": {},
   "outputs": [],
   "source": [
    "my_camera = Camera.from_dict({\n",
    "    \"cam_K\": [\n",
    "        1758.377685546875,\n",
    "        0.0,\n",
    "        360.0000000121072,\n",
    "        0.0,\n",
    "        1781.137258093513,\n",
    "        269.9999999622624,\n",
    "        0.0,\n",
    "        0.0,\n",
    "        1.0,\n",
    "    ],\n",
    "    \"cam_R_w2c\": [\n",
    "        -0.8058909773826599,\n",
    "        -0.5643280148506165,\n",
    "        -0.17909124493598938,\n",
    "        -0.5611616969108582,\n",
    "        0.8244928121566772,\n",
    "        -0.0728636085987091,\n",
    "        0.18877841532230377,\n",
    "        0.04177902266383171,\n",
    "        -0.9811305999755859,\n",
    "    ],\n",
    "    \"cam_t_w2c\": [\n",
    "        -10.521206855773926,\n",
    "        40.88941192626953,\n",
    "        1092.1990966796875,\n",
    "    ],\n",
    "    \"depth_scale\": 0.1,\n",
    "})\n",
    "\n",
    "print(my_camera.to_dict())"
   ]
  },
  {
   "attachments": {},
   "cell_type": "markdown",
   "metadata": {},
   "source": [
    "## 2. Create the associated PyArrow type\n",
    "\n",
    "- Thanks to the `to_struct` method you just defined, all you have to do is call `createPyArrowType` to get your custom PyArrow type."
   ]
  },
  {
   "cell_type": "code",
   "execution_count": null,
   "metadata": {},
   "outputs": [],
   "source": [
    "CameraType = createPyArrowType(Camera.to_struct(), 'Camera', Camera)"
   ]
  },
  {
   "cell_type": "markdown",
   "metadata": {},
   "source": [
    "Try creating a PyArrow Array with your type to make sure it works:"
   ]
  },
  {
   "cell_type": "code",
   "execution_count": null,
   "metadata": {},
   "outputs": [],
   "source": [
    "my_camera_array = CameraType.Array.from_list([my_camera])\n",
    "\n",
    "print(my_camera_array)"
   ]
  },
  {
   "attachments": {},
   "cell_type": "markdown",
   "metadata": {},
   "source": [
    "## 3. Use your type\n",
    "\n",
    "Here is a list of things you can do to use your types and make sure everything is setup properly.\n",
    "\n",
    "Define a schema using your custom type alongside other Pixano types:"
   ]
  },
  {
   "cell_type": "code",
   "execution_count": null,
   "metadata": {},
   "outputs": [],
   "source": [
    "schema = pa.schema([pa.field(\"Camera\", CameraType), pa.field(\"Bbox\", BBoxType)])"
   ]
  },
  {
   "cell_type": "markdown",
   "metadata": {},
   "source": [
    "Save your arrays of data in a PyArrow table:"
   ]
  },
  {
   "cell_type": "code",
   "execution_count": null,
   "metadata": {},
   "outputs": [],
   "source": [
    "bbox_array = BBoxType.Array.from_list([BBox.from_xywh([1, 2, 3, 4])])\n",
    "\n",
    "table = pa.Table.from_arrays([my_camera_array, bbox_array], schema=schema)"
   ]
  },
  {
   "cell_type": "markdown",
   "metadata": {},
   "source": [
    "Save the table as a parquet file and read it back into memory:"
   ]
  },
  {
   "cell_type": "code",
   "execution_count": null,
   "metadata": {},
   "outputs": [],
   "source": [
    "with tempfile.NamedTemporaryFile(suffix=\".parquet\") as temp_file:\n",
    "    temp_file_path = temp_file.name\n",
    "    pq.write_table(table, temp_file_path, store_schema=True)\n",
    "    table_read = pq.read_table(temp_file_path)"
   ]
  },
  {
   "attachments": {},
   "cell_type": "markdown",
   "metadata": {},
   "source": [
    "Convert that table back to Python types:"
   ]
  },
  {
   "cell_type": "code",
   "execution_count": null,
   "metadata": {},
   "outputs": [],
   "source": [
    "table_read.to_pylist()\n",
    "\n",
    "print(table_read.to_pylist()[0]['Bbox'])\n",
    "print(table_read.to_pylist()[0]['Camera'])"
   ]
  }
 ],
 "metadata": {
  "kernelspec": {
   "display_name": "pixano",
   "language": "python",
   "name": "python3"
  },
  "language_info": {
   "codemirror_mode": {
    "name": "ipython",
    "version": 3
   },
   "file_extension": ".py",
   "mimetype": "text/x-python",
   "name": "python",
   "nbconvert_exporter": "python",
   "pygments_lexer": "ipython3",
   "version": "3.10.11"
  },
  "orig_nbformat": 4
 },
 "nbformat": 4,
 "nbformat_minor": 2
}
