{
 "cells": [
  {
   "attachments": {},
   "cell_type": "markdown",
   "metadata": {},
   "source": [
    "# Importing your datasets with Pixano [![Open in Colab](https://colab.research.google.com/assets/colab-badge.svg)](https://colab.research.google.com/github/pixano/pixano/blob/main/notebooks/datasets/import_dataset.ipynb)\n",
    "\n",
    "This notebook will help you import your datasets from various formats to Pixano format.\n",
    "\n",
    "This will allow you to access them with the Pixano Explorer and the Pixano Annotator.\n",
    "\n",
    "## 1. Setting up\n",
    "\n",
    "### Install dependencies\n",
    "\n",
    "This notebook requires installing `pixano`.\n",
    "\n",
    "If you are running this notebook on your computer, we strongly recommend creating a virtual environment for using Pixano like so:\n",
    "\n",
    "```shell\n",
    "conda create -n pixano_env python=3.10\n",
    "conda activate pixano_env\n",
    "```\n",
    "\n",
    "```shell\n",
    "pip install pixano\n",
    "```\n",
    "\n",
    "If you are running this notebook in Google Colab, run the cell below to install `pixano`."
   ]
  },
  {
   "cell_type": "code",
   "execution_count": null,
   "metadata": {},
   "outputs": [],
   "source": [
    "try:\n",
    "  import google.colab\n",
    "  ENV = \"colab\"\n",
    "  !pip install pixano\n",
    "except:\n",
    "  ENV = \"jupyter\""
   ]
  },
  {
   "attachments": {},
   "cell_type": "markdown",
   "metadata": {},
   "source": [
    "### Load dependencies"
   ]
  },
  {
   "cell_type": "code",
   "execution_count": null,
   "metadata": {},
   "outputs": [],
   "source": [
    "from pathlib import Path\n",
    "\n",
    "from pixano.apps import Explorer\n",
    "from pixano.data import COCOImporter, ImageImporter, LegacyImporter"
   ]
  },
  {
   "attachments": {},
   "cell_type": "markdown",
   "metadata": {},
   "source": [
    "## 2. Importing a dataset\n",
    "\n",
    "Here, you will define your dataset information (name, description, split...), input information (like source directories for images and annotations) and output information (target directory). Then you will be able to import the dataset.\n",
    "\n",
    "How Pixano handles **annotations**:\n",
    "- Annotations will be **transformed to Pixano format** and stored in a database while **keeping the original files intact**.\n",
    "\n",
    "How Pixano handles **media files**:\n",
    "- By default, media files such as images and videos will be **referred to using their current path or URL**. This is the best option for **large datasets** and datasets on **remote servers** and **S3 buckets**, for which the media paths won't change.\n",
    "- You can use the `portable=True` option to **copy or download the media files** inside the Pixano format dataset. This is the best option for **smaller datasets**, for which you want to be able to move the media files with them.\n",
    "\n",
    "### Import from image-only dataset\n",
    "If your dataset contains only images, you can use our predefined ImageImporter to import it to Pixano format.\n",
    "\n",
    "#### Set dataset information"
   ]
  },
  {
   "cell_type": "code",
   "execution_count": null,
   "metadata": {},
   "outputs": [],
   "source": [
    "# Dataset information\n",
    "name = \"My image dataset\"\n",
    "description = \"Image dataset\"\n",
    "splits = [\"train\", \"val\"]\n",
    "\n",
    "# Input information\n",
    "input_dirs = {\n",
    "    \"image\": Path(\"my_images/\"),\n",
    "}\n",
    "\n",
    "# Output information\n",
    "library_dir = Path(\"my_datasets/\")\n",
    "import_dir = library_dir / \"coco_instances\""
   ]
  },
  {
   "attachments": {},
   "cell_type": "markdown",
   "metadata": {},
   "source": [
    "#### Import dataset"
   ]
  },
  {
   "cell_type": "code",
   "execution_count": null,
   "metadata": {},
   "outputs": [],
   "source": [
    "importer = ImageImporter(name, description, splits)\n",
    "importer.import_dataset(input_dirs, import_dir, portable=False)"
   ]
  },
  {
   "attachments": {},
   "cell_type": "markdown",
   "metadata": {},
   "source": [
    "### Import from COCO format dataset\n",
    "\n",
    "If your dataset contains images and annotations in COCO format, you can use our predefined COCOImporter to import it to Pixano format.\n",
    "\n",
    "#### Set dataset information"
   ]
  },
  {
   "cell_type": "code",
   "execution_count": null,
   "metadata": {},
   "outputs": [],
   "source": [
    "# Dataset information\n",
    "name = \"COCO Instances\"\n",
    "description = \"COCO Instances Dataset\"\n",
    "splits = [\"train2017\", \"val2017\"]\n",
    "\n",
    "# Input information\n",
    "input_dirs = {\n",
    "    \"image\": Path(\"coco\"),\n",
    "    \"objects\": Path(\"coco/annotations\"),\n",
    "}\n",
    "\n",
    "# Output information\n",
    "library_dir = Path(\"my_datasets/\")\n",
    "import_dir = library_dir / \"coco_instances\""
   ]
  },
  {
   "cell_type": "code",
   "execution_count": null,
   "metadata": {},
   "outputs": [],
   "source": [
    "importer = COCOImporter(name, description, splits)\n",
    "importer.import_dataset(input_dirs, import_dir, portable=False)"
   ]
  },
  {
   "attachments": {},
   "cell_type": "markdown",
   "metadata": {},
   "source": [
    "### Import from legacy Pixano format dataset\n",
    "\n",
    "If your dataset contains images and annotations in the previous legacy Pixano format, you can use our predefined LegacyImporter to import it to Pixano format.\n",
    "\n",
    "You will need to provide the workspace directory for your legacy dataset, and the paths to your annotations files relative to that directory.\n",
    "\n",
    "#### Set dataset information"
   ]
  },
  {
   "cell_type": "code",
   "execution_count": null,
   "metadata": {},
   "outputs": [],
   "source": [
    "# Dataset information\n",
    "name = \"My legacy dataset\"\n",
    "description = \"Legacy dataset\"\n",
    "splits = [\"val\"]\n",
    "views = [\"cam_1\", \"cam_2\"]\n",
    "\n",
    "# Input information\n",
    "input_dirs = {\"workspace\": Path(\"legacy_pixano/\")}\n",
    "json_files = {\n",
    "    \"cam_1\": \"annotations/projectMultiCam/cam_1_ann.json\",\n",
    "    \"cam_2\": \"annotations/projectMultiCam/cam_2_ann.json\",\n",
    "}\n",
    "\n",
    "# Output information\n",
    "library_dir = Path(\"my_datasets/\")\n",
    "import_dir = library_dir / \"legacy_dataset\""
   ]
  },
  {
   "attachments": {},
   "cell_type": "markdown",
   "metadata": {},
   "source": [
    "#### Import dataset"
   ]
  },
  {
   "cell_type": "code",
   "execution_count": null,
   "metadata": {},
   "outputs": [],
   "source": [
    "importer = LegacyImporter(name, description, splits, views, json_files)\n",
    "importer.import_dataset(input_dirs, import_dir, portable=False)"
   ]
  },
  {
   "attachments": {},
   "cell_type": "markdown",
   "metadata": {},
   "source": [
    "### Import from custom format dataset\n",
    "\n",
    "If your dataset contains media or annotations in a custom format, you will have to define your own importer to import it to Pixano format.\n",
    "\n",
    "Please take a look at the `template_importer.py` file next to this notebook for inspiration on how to build your own.\n",
    "\n",
    "Also do not hesitate to reach out to us if you think Pixano could benefit from a importer for your dataset, and we will try to add it in a future version. "
   ]
  },
  {
   "attachments": {},
   "cell_type": "markdown",
   "metadata": {},
   "source": [
    "## 3. Browsing the dataset\n",
    "\n",
    "With the import complete, you can now browse your dataset with the Pixano Explorer.\n",
    "\n",
    "You can stop the Explorer app by restarting the notebook."
   ]
  },
  {
   "cell_type": "code",
   "execution_count": null,
   "metadata": {},
   "outputs": [],
   "source": [
    "explorer = Explorer(library_dir)"
   ]
  },
  {
   "cell_type": "code",
   "execution_count": null,
   "metadata": {},
   "outputs": [],
   "source": [
    "explorer.display()"
   ]
  }
 ],
 "metadata": {
  "kernelspec": {
   "display_name": "Python 3 (ipykernel)",
   "language": "python",
   "name": "python3"
  },
  "language_info": {
   "codemirror_mode": {
    "name": "ipython",
    "version": 3
   },
   "file_extension": ".py",
   "mimetype": "text/x-python",
   "name": "python",
   "nbconvert_exporter": "python",
   "pygments_lexer": "ipython3",
   "version": "3.10.11"
  },
  "vscode": {
   "interpreter": {
    "hash": "c6e4e9f98eb68ad3b7c296f83d20e6de614cb42e90992a65aa266555a3137d0d"
   }
  }
 },
 "nbformat": 4,
 "nbformat_minor": 2
}
