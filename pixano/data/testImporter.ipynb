{
  "cells": [
    {
      "cell_type": "code",
      "execution_count": 1,
      "metadata": {},
      "outputs": [],
      "source": [
        "from pixano.data import ImageImporter\n"
      ]
    },
    {
      "cell_type": "code",
      "execution_count": 2,
      "metadata": {},
      "outputs": [
        {
          "data": {
            "application/vnd.jupyter.widget-view+json": {
              "model_id": "3688b3fc367342939d8f49e5fe105dbf",
              "version_major": 2,
              "version_minor": 0
            },
            "text/plain": [
              "Creating dataset info file:   0%|          | 0/1 [00:00<?, ?it/s]"
            ]
          },
          "metadata": {},
          "output_type": "display_data"
        }
      ],
      "source": [
        "from pathlib import Path\n",
        "import tempfile\n",
        "import json\n",
        "\n",
        "from pixano.data import DOTAImporter\n",
        "\n",
        "input_dirs = {\"objects\": Path(\"unit_testing/assets/dota_dataset/objects\"), 'image': Path(\"unit_testing/assets/dota_dataset/image\")}\n",
        "\n",
        "importer = DOTAImporter(name=\"Dota test\", description=\"LIST dota\", splits=[\"train\"])\n",
        "\n",
        "with tempfile.TemporaryDirectory() as library_dir:\n",
        "    import_dir = Path(library_dir) / \"dota\"\n",
        "    ds = importer.import_dataset(input_dirs, import_dir)\n",
        "\n",
        "    # Read the spec.json in import dir\n",
        "    spec_file_path = import_dir / \"spec.json\"\n",
        "    with spec_file_path.open() as spec_file:\n",
        "        spec_data = json.load(spec_file)\n",
        "\n",
        "\n"
      ]
    },
    {
      "cell_type": "code",
      "execution_count": 3,
      "metadata": {},
      "outputs": [
        {
          "name": "stdout",
          "output_type": "stream",
          "text": [
            "pyarrow.RecordBatch\n",
            "id: string\n",
            "rgb: extension<Image<CustomExtensionType>>\n",
            "depth: extension<DepthImage<CustomExtensionType>>\n",
            "camera: extension<Camera<CustomExtensionType>>\n",
            "category_id: list<item: int64>\n",
            "  child 0, item: int64\n",
            "gt: list<item: extension<Pose<CustomExtensionType>>>\n",
            "  child 0, item: extension<Pose<CustomExtensionType>>\n",
            "gt_info: list<item: extension<GtInfo<CustomExtensionType>>>\n",
            "  child 0, item: extension<GtInfo<CustomExtensionType>>\n",
            "split: string\n",
            "pyarrow.RecordBatch\n",
            "id: string\n",
            "rgb: extension<Image<CustomExtensionType>>\n",
            "depth: extension<DepthImage<CustomExtensionType>>\n",
            "camera: extension<Camera<CustomExtensionType>>\n",
            "category_id: list<item: int64>\n",
            "  child 0, item: int64\n",
            "gt: list<item: extension<Pose<CustomExtensionType>>>\n",
            "  child 0, item: extension<Pose<CustomExtensionType>>\n",
            "gt_info: list<item: extension<GtInfo<CustomExtensionType>>>\n",
            "  child 0, item: extension<GtInfo<CustomExtensionType>>\n",
            "split: string\n",
            "pyarrow.RecordBatch\n",
            "id: string\n",
            "rgb: extension<Image<CustomExtensionType>>\n",
            "depth: extension<DepthImage<CustomExtensionType>>\n",
            "camera: extension<Camera<CustomExtensionType>>\n",
            "category_id: list<item: int64>\n",
            "  child 0, item: int64\n",
            "gt: list<item: extension<Pose<CustomExtensionType>>>\n",
            "  child 0, item: extension<Pose<CustomExtensionType>>\n",
            "gt_info: list<item: extension<GtInfo<CustomExtensionType>>>\n",
            "  child 0, item: extension<GtInfo<CustomExtensionType>>\n",
            "split: string\n",
            "pyarrow.RecordBatch\n",
            "id: string\n",
            "rgb: extension<Image<CustomExtensionType>>\n",
            "depth: extension<DepthImage<CustomExtensionType>>\n",
            "camera: extension<Camera<CustomExtensionType>>\n",
            "category_id: list<item: int64>\n",
            "  child 0, item: int64\n",
            "gt: list<item: extension<Pose<CustomExtensionType>>>\n",
            "  child 0, item: extension<Pose<CustomExtensionType>>\n",
            "gt_info: list<item: extension<GtInfo<CustomExtensionType>>>\n",
            "  child 0, item: extension<GtInfo<CustomExtensionType>>\n",
            "split: string\n"
          ]
        },
        {
          "name": "stderr",
          "output_type": "stream",
          "text": [
            "/home/maximilien/miniconda3/envs/pixano/lib/python3.11/site-packages/imageio/plugins/pillow.py:297: UserWarning: Loading 16-bit (uint16) PNG as int32 due to limitations in pillow's PNG decoder. This will be fixed in a future version of pillow which will make this warning dissapear.\n",
            "  warnings.warn(\n"
          ]
        }
      ],
      "source": [
        "from pathlib import Path\n",
        "import tempfile\n",
        "\n",
        "from pixano.data import BopWDSImporter\n",
        "\n",
        "input_dirs = {\"objects\": Path(\"unit_testing/assets/bop_wds_dataset\")}\n",
        "\n",
        "importer = BopWDSImporter(name=\"bop test\", description=\"LIST bop\", splits=[\"test\", \"val\"])\n",
        "\n",
        "with tempfile.TemporaryDirectory() as library_dir:\n",
        "    import_dir = Path(library_dir) / \"bop\"\n",
        "    ds = importer.import_row(input_dirs)\n",
        "\n",
        "for r in ds:\n",
        "    print(r)"
      ]
    }
  ],
  "metadata": {
    "kernelspec": {
      "display_name": "pixano",
      "language": "python",
      "name": "python3"
    },
    "language_info": {
      "codemirror_mode": {
        "name": "ipython",
        "version": 3
      },
      "file_extension": ".py",
      "mimetype": "text/x-python",
      "name": "python",
      "nbconvert_exporter": "python",
      "pygments_lexer": "ipython3",
      "version": "3.11.3"
    },
    "orig_nbformat": 4
  },
  "nbformat": 4,
  "nbformat_minor": 2
}
