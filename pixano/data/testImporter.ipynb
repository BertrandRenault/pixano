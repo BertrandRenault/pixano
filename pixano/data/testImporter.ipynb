{
  "cells": [
    {
      "cell_type": "code",
      "execution_count": null,
      "metadata": {},
      "outputs": [],
      "source": [
        "from pixano.data import ImageImporter\n"
      ]
    },
    {
      "cell_type": "code",
      "execution_count": null,
      "metadata": {},
      "outputs": [],
      "source": [
        "from pathlib import Path\n",
        "import tempfile\n",
        "import json\n",
        "\n",
        "from pixano.data import DOTAImporter\n",
        "\n",
        "input_dirs = {\"objects\": Path(\"unit_testing/assets/dota_dataset/objects\"), 'image': Path(\"unit_testing/assets/dota_dataset/image\")}\n",
        "\n",
        "importer = DOTAImporter(name=\"Dota test\", description=\"LIST dota\", splits=[\"train\"])\n",
        "\n",
        "with tempfile.TemporaryDirectory() as library_dir:\n",
        "    import_dir = Path(library_dir) / \"dota\"\n",
        "    ds = importer.import_row(input_dirs)\n",
        "\n",
        "\n",
        "\"\"\"\n",
        "    # Read the spec.json in import dir\n",
        "    spec_file_path = import_dir / \"spec.json\"\n",
        "    with spec_file_path.open() as spec_file:\n",
        "        spec_data = json.load(spec_file)\n",
        "\"\"\"\n",
        "\n",
        "for row in ds:\n",
        "    print(row)"
      ]
    },
    {
      "cell_type": "code",
      "execution_count": null,
      "metadata": {},
      "outputs": [],
      "source": [
        "from pathlib import Path\n",
        "import tempfile\n",
        "from pixano.data import ImageImporter\n",
        "\n",
        "input_dirs = {'image': Path(\"unit_testing/assets/image_dataset\")}\n",
        "\n",
        "importer = ImageImporter(name=\"im test\", description=\"LIST im\", splits=[\"demo\", \"train\"])\n",
        "\n",
        "with tempfile.TemporaryDirectory() as library_dir:\n",
        "    import_dir = Path(library_dir) / \"img\"\n",
        "    ds = importer.import_dataset(input_dirs, import_dir)\n",
        "\n",
        "    for r in ds.to_batches():\n",
        "        k = r.to_pandas()\n",
        "        break\n",
        "k"
      ]
    },
    {
      "cell_type": "code",
      "execution_count": null,
      "metadata": {},
      "outputs": [],
      "source": [
        "from pathlib import Path\n",
        "import tempfile\n",
        "\n",
        "from pixano.data import BopWDSImporter\n",
        "\n",
        "input_dirs = {\"objects\": Path(\"unit_testing/assets/bop_wds_dataset\")}\n",
        "\n",
        "importer = BopWDSImporter(name=\"bop test\", description=\"LIST bop\", splits=[\"test\", \"val\"])\n",
        "\n",
        "with tempfile.TemporaryDirectory() as library_dir:\n",
        "    import_dir = Path(library_dir) / \"bop\"\n",
        "    ds = importer.import_row(input_dirs)\n",
        "\n",
        "for row in ds:\n",
        "    print(row)"
      ]
    },
    {
      "cell_type": "code",
      "execution_count": null,
      "metadata": {},
      "outputs": [],
      "source": []
    }
  ],
  "metadata": {
    "kernelspec": {
      "display_name": "pixano",
      "language": "python",
      "name": "python3"
    },
    "language_info": {
      "codemirror_mode": {
        "name": "ipython",
        "version": 3
      },
      "file_extension": ".py",
      "mimetype": "text/x-python",
      "name": "python",
      "nbconvert_exporter": "python",
      "pygments_lexer": "ipython3",
      "version": "3.11.3"
    },
    "orig_nbformat": 4
  },
  "nbformat": 4,
  "nbformat_minor": 2
}
