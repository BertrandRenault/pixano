{
 "cells": [
  {
   "cell_type": "code",
   "execution_count": 5,
   "metadata": {},
   "outputs": [],
   "source": [
    "from pixano.data.image_importer import ImageImporter"
   ]
  },
  {
   "cell_type": "code",
   "execution_count": 6,
   "metadata": {},
   "outputs": [],
   "source": [
    "img_dir = '/home/maximilien/work/data/demo_agriculture/media/image/demo/'\n"
   ]
  },
  {
   "cell_type": "code",
   "execution_count": 7,
   "metadata": {},
   "outputs": [
    {
     "ename": "TypeError",
     "evalue": "'CustomExtensionType' object is not callable",
     "output_type": "error",
     "traceback": [
      "\u001b[0;31m---------------------------------------------------------------------------\u001b[0m",
      "\u001b[0;31mTypeError\u001b[0m                                 Traceback (most recent call last)",
      "Cell \u001b[0;32mIn[7], line 1\u001b[0m\n\u001b[0;32m----> 1\u001b[0m importer \u001b[39m=\u001b[39m ImageImporter(\u001b[39m'\u001b[39;49m\u001b[39mtest\u001b[39;49m\u001b[39m'\u001b[39;49m, \u001b[39m'\u001b[39;49m\u001b[39mtest descri\u001b[39;49m\u001b[39m'\u001b[39;49m, [\u001b[39m'\u001b[39;49m\u001b[39mdemo\u001b[39;49m\u001b[39m'\u001b[39;49m])\n",
      "File \u001b[0;32m~/work/pixano/pixano/data/image_importer.py:53\u001b[0m, in \u001b[0;36mImageImporter.__init__\u001b[0;34m(self, name, description, splits)\u001b[0m\n\u001b[1;32m     44\u001b[0m \u001b[39m\u001b[39m\u001b[39m\"\"\"Initialize COCO Loader\u001b[39;00m\n\u001b[1;32m     45\u001b[0m \n\u001b[1;32m     46\u001b[0m \u001b[39mArgs:\u001b[39;00m\n\u001b[0;32m   (...)\u001b[0m\n\u001b[1;32m     49\u001b[0m \u001b[39m    splits (list[str]): Dataset splits\u001b[39;00m\n\u001b[1;32m     50\u001b[0m \u001b[39m\"\"\"\u001b[39;00m\n\u001b[1;32m     52\u001b[0m \u001b[39m# Dataset views\u001b[39;00m\n\u001b[0;32m---> 53\u001b[0m views \u001b[39m=\u001b[39m [pa\u001b[39m.\u001b[39mfield(\u001b[39m\"\u001b[39m\u001b[39mimage\u001b[39m\u001b[39m\"\u001b[39m, arrow_types\u001b[39m.\u001b[39;49mImageType())]\n\u001b[1;32m     55\u001b[0m \u001b[39m# Initialize Data Loader\u001b[39;00m\n\u001b[1;32m     56\u001b[0m \u001b[39msuper\u001b[39m()\u001b[39m.\u001b[39m\u001b[39m__init__\u001b[39m(name, description, splits, views)\n",
      "\u001b[0;31mTypeError\u001b[0m: 'CustomExtensionType' object is not callable"
     ]
    }
   ],
   "source": [
    "importer = ImageImporter('test', 'test descri', ['demo'])\n",
    "\n"
   ]
  }
 ],
 "metadata": {
  "kernelspec": {
   "display_name": "pixano",
   "language": "python",
   "name": "python3"
  },
  "language_info": {
   "codemirror_mode": {
    "name": "ipython",
    "version": 3
   },
   "file_extension": ".py",
   "mimetype": "text/x-python",
   "name": "python",
   "nbconvert_exporter": "python",
   "pygments_lexer": "ipython3",
   "version": "3.11.3"
  },
  "orig_nbformat": 4
 },
 "nbformat": 4,
 "nbformat_minor": 2
}
