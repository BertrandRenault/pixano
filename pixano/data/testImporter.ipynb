{
 "cells": [
  {
   "cell_type": "code",
   "execution_count": 1,
   "metadata": {},
   "outputs": [],
   "source": [
    "from pixano.data.importers.image_importer import ImageImporter\n"
   ]
  },
  {
   "cell_type": "code",
   "execution_count": 3,
   "metadata": {},
   "outputs": [
    {
     "data": {
      "application/vnd.jupyter.widget-view+json": {
       "model_id": "fd3ee58da001446595d8eda1d52e7796",
       "version_major": 2,
       "version_minor": 0
      },
      "text/plain": [
       "Creating dataset info file:   0%|          | 0/1 [00:00<?, ?it/s]"
      ]
     },
     "metadata": {},
     "output_type": "display_data"
    },
    {
     "data": {
      "text/plain": [
       "'    r = importer.import_row(input_dirs)\\n    for k in r:\\n        print(k)'"
      ]
     },
     "execution_count": 3,
     "metadata": {},
     "output_type": "execute_result"
    }
   ],
   "source": [
    "from pathlib import Path\n",
    "import tempfile\n",
    "\n",
    "from pixano.data.importers import *\n",
    "\n",
    "input_dirs = {\"objects\": Path(\"test_data/Dota/objects\"), 'image': Path(\"test_data/Dota/image\")}\n",
    "\n",
    "importer = DOTA_Importer(name=\"Dota test\", description=\"LIST dota\", splits=[\"train\"])\n",
    "\n",
    "with tempfile.TemporaryDirectory() as library_dir:\n",
    "    import_dir = Path(library_dir) / \"dota\"\n",
    "    ds = importer.import_dataset(input_dirs, import_dir)\n",
    "\"\"\"    r = importer.import_row(input_dirs)\n",
    "    for k in r:\n",
    "        print(k)\"\"\""
   ]
  }
 ],
 "metadata": {
  "kernelspec": {
   "display_name": "pixano",
   "language": "python",
   "name": "python3"
  },
  "language_info": {
   "codemirror_mode": {
    "name": "ipython",
    "version": 3
   },
   "file_extension": ".py",
   "mimetype": "text/x-python",
   "name": "python",
   "nbconvert_exporter": "python",
   "pygments_lexer": "ipython3",
   "version": "3.11.3"
  },
  "orig_nbformat": 4
 },
 "nbformat": 4,
 "nbformat_minor": 2
}
