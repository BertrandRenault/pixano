{
 "cells": [
  {
   "cell_type": "code",
   "execution_count": null,
   "metadata": {},
   "outputs": [],
   "source": [
    "import lance\n",
    "\n",
    "r = lance.dataset(\"/home/maximilien/work/bop_data/bop_ds.lance/\")"
   ]
  },
  {
   "cell_type": "code",
   "execution_count": null,
   "metadata": {},
   "outputs": [],
   "source": [
    "for batch in r.to_batches(limit=10):\n",
    "    a = batch.to_pandas()\n",
    "    break"
   ]
  },
  {
   "cell_type": "code",
   "execution_count": null,
   "metadata": {},
   "outputs": [],
   "source": [
    "import duckdb\n",
    "\n",
    "duckdb.query(\"SELECT id, category_id FROM a\").to_df()"
   ]
  },
  {
   "cell_type": "code",
   "execution_count": null,
   "metadata": {},
   "outputs": [],
   "source": [
    "import json\n",
    "import pandas as pd\n",
    "\n",
    "with open(\"/home/maximilien/work/adapt-2023_with_gt/info.json\", \"r\") as json_file:\n",
    "    info = json.load(json_file)\n",
    "\n",
    "with open(\n",
    "    \"/home/maximilien/work/adapt-2023_with_gt/test_targets_adapt23.json\", \"r\"\n",
    ") as json_file:\n",
    "    data = json.load(json_file)\n",
    "\n",
    "\n",
    "df = pd.DataFrame(data)\n",
    "info_df = pd.DataFrame(info)\n",
    "\n",
    "# Renommer la colonne \"obj_id\" en \"category_id\"\n",
    "df.rename(columns={\"obj_id\": \"category_id\"}, inplace=True)\n",
    "\n",
    "\n",
    "result_table = df.groupby([\"category_id\"])[\"scene_id\"].agg(set).reset_index()\n",
    "\n",
    "# Renommer la colonne \"scene_id\" en \"scenes_ids\"\n",
    "result_table.rename(columns={\"scene_id\": \"scenes_ids\"}, inplace=True)\n",
    "\n",
    "# Compter le nombre d'occurrences\n",
    "result_table[\"number of occurrences\"] = (\n",
    "    df.groupby([\"category_id\"])[\"scene_id\"].size().values\n",
    ")\n",
    "\n",
    "result_table[\"category_id\"] = result_table[\"category_id\"].apply(\n",
    "    lambda i: info[\"category_index\"][str(i)]\n",
    ")\n",
    "\n",
    "result_table = (\n",
    "    result_table.set_index([\"category_id\"])\n",
    "    .join(info_df.set_index([\"category_index\"]), how=\"inner\")\n",
    "    .reset_index()\n",
    ")\n",
    "\n",
    "result_table = result_table.get(\n",
    "    [\"index\", \"scenes_ids\", \"number of occurrences\", \"symmetries\", \"bbox\"]\n",
    ")"
   ]
  },
  {
   "cell_type": "code",
   "execution_count": null,
   "metadata": {},
   "outputs": [],
   "source": [
    "# Fonction pour calculer le diamètre et le size_ratio à partir des valeurs bbox\n",
    "def calculate_size(bbox):\n",
    "    diameter = (bbox[0] ** 2 + bbox[1] ** 2 + bbox[2] ** 2) ** 0.5\n",
    "    size_ratio = min(bbox) / max(bbox)\n",
    "    return diameter, size_ratio\n",
    "\n",
    "\n",
    "result_table[[\"diameter\", \"size_ratio\"]] = result_table[\"bbox\"].apply(\n",
    "    lambda bbox: pd.Series(calculate_size(bbox))\n",
    ")\n",
    "\n",
    "result_table.rename(columns={\"bbox\": \"bbox (mm)\"}, inplace=True)\n",
    "\n",
    "result_table"
   ]
  }
 ],
 "metadata": {
  "kernelspec": {
   "display_name": "pixano",
   "language": "python",
   "name": "python3"
  },
  "language_info": {
   "codemirror_mode": {
    "name": "ipython",
    "version": 3
   },
   "file_extension": ".py",
   "mimetype": "text/x-python",
   "name": "python",
   "nbconvert_exporter": "python",
   "pygments_lexer": "ipython3",
   "version": "3.11.3"
  },
  "orig_nbformat": 4
 },
 "nbformat": 4,
 "nbformat_minor": 2
}
