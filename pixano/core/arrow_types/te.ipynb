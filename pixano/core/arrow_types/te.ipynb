{
 "cells": [
  {
   "cell_type": "code",
   "execution_count": 17,
   "metadata": {},
   "outputs": [],
   "source": [
    "from pixano.core.arrow_types import *\n",
    "\n",
    "objs_list1 = [ObjectAnnotation(\n",
    "    id='1',\n",
    "    view_id=str(i)\n",
    ") for i in range(3)]\n",
    "\n",
    "objs_list2 = [ObjectAnnotation(\n",
    "    id='2',\n",
    "    view_id=str(i+2)) for i in range(3)]\n",
    "\n",
    "\n"
   ]
  },
  {
   "cell_type": "code",
   "execution_count": 23,
   "metadata": {},
   "outputs": [],
   "source": [
    "L = ObjectAnnotationType.Array.from_lists([objs_list1, objs_list2])\n"
   ]
  },
  {
   "cell_type": "code",
   "execution_count": 21,
   "metadata": {},
   "outputs": [
    {
     "data": {
      "text/plain": [
       "[[ObjectAnnotation(id='1', view_id='0', bbox=<pixano.core.arrow_types.bbox.BBox object at 0x7fc4dd1054d0>, bbox_source=None, bbox_confidence=None, is_group_of=None, is_difficult=None, is_truncated=None, mask=<pixano.core.arrow_types.compressedRLE.CompressedRLE object at 0x7fc4dd112290>, mask_source=None, area=None, pose=<pixano.core.arrow_types.pose.Pose object at 0x7fc4dd2f8b90>, category_id=None, category_name=None, identity=None),\n",
       "  ObjectAnnotation(id='1', view_id='1', bbox=<pixano.core.arrow_types.bbox.BBox object at 0x7fc4dd8f0ed0>, bbox_source=None, bbox_confidence=None, is_group_of=None, is_difficult=None, is_truncated=None, mask=<pixano.core.arrow_types.compressedRLE.CompressedRLE object at 0x7fc4dd112d10>, mask_source=None, area=None, pose=<pixano.core.arrow_types.pose.Pose object at 0x7fc4dd110690>, category_id=None, category_name=None, identity=None),\n",
       "  ObjectAnnotation(id='1', view_id='2', bbox=<pixano.core.arrow_types.bbox.BBox object at 0x7fc4dd106310>, bbox_source=None, bbox_confidence=None, is_group_of=None, is_difficult=None, is_truncated=None, mask=<pixano.core.arrow_types.compressedRLE.CompressedRLE object at 0x7fc4dd818e50>, mask_source=None, area=None, pose=<pixano.core.arrow_types.pose.Pose object at 0x7fc4dd2fb610>, category_id=None, category_name=None, identity=None)],\n",
       " [ObjectAnnotation(id='2', view_id='2', bbox=<pixano.core.arrow_types.bbox.BBox object at 0x7fc4dd107650>, bbox_source=None, bbox_confidence=None, is_group_of=None, is_difficult=None, is_truncated=None, mask=<pixano.core.arrow_types.compressedRLE.CompressedRLE object at 0x7fc4dd2f9790>, mask_source=None, area=None, pose=<pixano.core.arrow_types.pose.Pose object at 0x7fc4dd2fb010>, category_id=None, category_name=None, identity=None),\n",
       "  ObjectAnnotation(id='2', view_id='3', bbox=<pixano.core.arrow_types.bbox.BBox object at 0x7fc4dd2ea650>, bbox_source=None, bbox_confidence=None, is_group_of=None, is_difficult=None, is_truncated=None, mask=<pixano.core.arrow_types.compressedRLE.CompressedRLE object at 0x7fc4dd2fac50>, mask_source=None, area=None, pose=<pixano.core.arrow_types.pose.Pose object at 0x7fc4dd2fa8d0>, category_id=None, category_name=None, identity=None),\n",
       "  ObjectAnnotation(id='2', view_id='4', bbox=<pixano.core.arrow_types.bbox.BBox object at 0x7fc4dd113810>, bbox_source=None, bbox_confidence=None, is_group_of=None, is_difficult=None, is_truncated=None, mask=<pixano.core.arrow_types.compressedRLE.CompressedRLE object at 0x7fc4dd2f8150>, mask_source=None, area=None, pose=<pixano.core.arrow_types.pose.Pose object at 0x7fc4dd2fb490>, category_id=None, category_name=None, identity=None)]]"
      ]
     },
     "execution_count": 21,
     "metadata": {},
     "output_type": "execute_result"
    }
   ],
   "source": [
    "L.to_pylist()"
   ]
  }
 ],
 "metadata": {
  "kernelspec": {
   "display_name": "pixano",
   "language": "python",
   "name": "python3"
  },
  "language_info": {
   "codemirror_mode": {
    "name": "ipython",
    "version": 3
   },
   "file_extension": ".py",
   "mimetype": "text/x-python",
   "name": "python",
   "nbconvert_exporter": "python",
   "pygments_lexer": "ipython3",
   "version": "3.11.3"
  },
  "orig_nbformat": 4
 },
 "nbformat": 4,
 "nbformat_minor": 2
}
