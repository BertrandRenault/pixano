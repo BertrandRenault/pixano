{
 "cells": [
  {
   "attachments": {},
   "cell_type": "markdown",
   "metadata": {},
   "source": [
    "## **Creating python type and integration with pyarrow to parquet format**\n"
   ]
  },
  {
   "attachments": {},
   "cell_type": "markdown",
   "metadata": {},
   "source": [
    "**objective** : convert a dict structure as python type and save it as parquet with pyarrow"
   ]
  },
  {
   "cell_type": "code",
   "execution_count": null,
   "metadata": {},
   "outputs": [],
   "source": [
    "import pyarrow as pa\n",
    "\n",
    "from pixano.core.arrow_types.all_pixano_types import createPaType, PixanoType\n",
    "\n",
    "camera_setting = {\n",
    "    \"cam_K\": [\n",
    "        1758.377685546875,\n",
    "        0.0,\n",
    "        360.0000000121072,\n",
    "        0.0,\n",
    "        1781.137258093513,\n",
    "        269.9999999622624,\n",
    "        0.0,\n",
    "        0.0,\n",
    "        1.0,\n",
    "    ],\n",
    "    \"cam_R_w2c\": [\n",
    "        -0.8058909773826599,\n",
    "        -0.5643280148506165,\n",
    "        -0.17909124493598938,\n",
    "        -0.5611616969108582,\n",
    "        0.8244928121566772,\n",
    "        -0.0728636085987091,\n",
    "        0.18877841532230377,\n",
    "        0.04177902266383171,\n",
    "        -0.9811305999755859,\n",
    "    ],\n",
    "    \"cam_t_w2c\": [-10.521206855773926, 40.88941192626953, 1092.1990966796875],\n",
    "    \"depth_scale\": 0.1,\n",
    "}\n"
   ]
  },
  {
   "attachments": {},
   "cell_type": "markdown",
   "metadata": {},
   "source": [
    "### **Step 1 : create your type**\n",
    "\n",
    "- Go in pixano.core.arrow_types and create a file.py containing your type. \n",
    "\n",
    "- Use **PixanoType** as base class\n",
    "\n",
    "- Define attributs and your methods\n",
    "\n",
    "- **Overide to_struct method** :  the **name of fields** corresponds with the **attribut who will be export** to pyarrow ! \n",
    "\n",
    "PixanoType provide a generic **from_dict** and **to_dict** methods based on the to_struct fields names.\n"
   ]
  },
  {
   "cell_type": "code",
   "execution_count": null,
   "metadata": {},
   "outputs": [],
   "source": [
    "class Camera(PixanoType):\n",
    "    def __init__(self, cam_K, cam_R_w2c, cam_t_w2c, depth_scale):\n",
    "        self.cam_K = cam_K\n",
    "        self.cam_R_w2c = cam_R_w2c\n",
    "        self.cam_t_w2c = cam_t_w2c\n",
    "        self.depth_scale = depth_scale\n",
    "    \n",
    "    @staticmethod\n",
    "    def to_struct():\n",
    "        return pa.struct([\n",
    "            pa.field('cam_K', pa.list_(pa.float64())),\n",
    "            pa.field('cam_R_w2c', pa.list_(pa.float64())),\n",
    "            pa.field('cam_t_w2c', pa.list_(pa.float64())),\n",
    "            pa.field('depth_scale', pa.float64())\n",
    "        ])\n",
    "    \n",
    "cam1 = Camera.from_dict(camera_setting)\n",
    "cam1.to_dict()\n"
   ]
  },
  {
   "attachments": {},
   "cell_type": "markdown",
   "metadata": {},
   "source": [
    "### **Step 2 : integration with pyarrow**\n",
    "\n",
    "- Initialise type by calling **createPaType** and stock it in a variable\n",
    "\n",
    "Now you can have acces to the Array class from the variable and creating pyarrow array.\n",
    "\n",
    "\n",
    "\n"
   ]
  },
  {
   "cell_type": "code",
   "execution_count": null,
   "metadata": {},
   "outputs": [],
   "source": [
    "CameraType = createPaType(Camera.to_struct(), 'Camera', Camera)\n",
    "cam_arr = CameraType.Array.from_list([cam1])\n",
    "cam_arr"
   ]
  },
  {
   "attachments": {},
   "cell_type": "markdown",
   "metadata": {},
   "source": [
    "### **Step 3 : create Table**\n",
    "\n",
    "- Import needed type\n",
    "\n",
    "- Create all necessary **array**\n",
    "\n",
    "- Define **schema**\n",
    "\n",
    "\n"
   ]
  },
  {
   "cell_type": "code",
   "execution_count": null,
   "metadata": {},
   "outputs": [],
   "source": [
    "from pixano.core.arrow_types.bbox import BBox, BBoxType\n",
    "\n",
    "bbox_arr = BBoxType.Array.from_list([BBox.from_xywh([1, 2, 3, 4])])\n",
    "\n",
    "schema=pa.schema(\n",
    "            [\n",
    "                pa.field(\"Camera\", CameraType),\n",
    "                pa.field(\"Bbox\", BBoxType)\n",
    "            ]\n",
    "        )\n",
    "\n"
   ]
  },
  {
   "attachments": {},
   "cell_type": "markdown",
   "metadata": {},
   "source": [
    "- Create table and save it as parquet"
   ]
  },
  {
   "cell_type": "code",
   "execution_count": null,
   "metadata": {},
   "outputs": [],
   "source": [
    "\n",
    "table = pa.Table.from_arrays([cam_arr, bbox_arr], schema=schema)\n",
    "\n",
    "import tempfile\n",
    "import pyarrow.parquet as pq\n",
    "\n",
    "with tempfile.NamedTemporaryFile(suffix=\".parquet\") as temp_file:\n",
    "    temp_file_path = temp_file.name\n",
    "    pq.write_table(table, temp_file_path, store_schema=True)\n",
    "    re_table = pq.read_table(temp_file_path)"
   ]
  },
  {
   "attachments": {},
   "cell_type": "markdown",
   "metadata": {},
   "source": [
    "You can now read table and convert back to python type"
   ]
  },
  {
   "cell_type": "code",
   "execution_count": null,
   "metadata": {},
   "outputs": [],
   "source": [
    "re_table.to_pylist()"
   ]
  },
  {
   "cell_type": "code",
   "execution_count": null,
   "metadata": {},
   "outputs": [],
   "source": [
    "Bbox0 = re_table.to_pylist()[0]['Bbox']\n",
    "Bbox0.to_xyxy()"
   ]
  },
  {
   "cell_type": "code",
   "execution_count": null,
   "metadata": {},
   "outputs": [],
   "source": [
    "cam = re_table.to_pylist()[0]['Camera']\n",
    "cam"
   ]
  }
 ],
 "metadata": {
  "kernelspec": {
   "display_name": "pixano",
   "language": "python",
   "name": "python3"
  },
  "language_info": {
   "codemirror_mode": {
    "name": "ipython",
    "version": 3
   },
   "file_extension": ".py",
   "mimetype": "text/x-python",
   "name": "python",
   "nbconvert_exporter": "python",
   "pygments_lexer": "ipython3",
   "version": "3.11.3"
  },
  "orig_nbformat": 4
 },
 "nbformat": 4,
 "nbformat_minor": 2
}
