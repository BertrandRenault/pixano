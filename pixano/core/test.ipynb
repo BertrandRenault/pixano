{
 "cells": [
  {
   "cell_type": "code",
   "execution_count": 1,
   "metadata": {},
   "outputs": [],
   "source": [
    "from arrow_types import *\n",
    "import pyarrow as pa\n",
    "import pyarrow.parquet as pq\n"
   ]
  },
  {
   "cell_type": "code",
   "execution_count": 2,
   "metadata": {},
   "outputs": [],
   "source": [
    "class Use:\n",
    "\n",
    "    def __init__(self, id: str, data: list[float]):\n",
    "        self.id = id\n",
    "        self.data = data\n",
    "\n",
    "    def to_dict(self) -> dict:\n",
    "        return {\"id\": self.id, \"data\": self.data}\n",
    "\n",
    "\n"
   ]
  },
  {
   "cell_type": "code",
   "execution_count": 3,
   "metadata": {},
   "outputs": [],
   "source": [
    "\n",
    "class UseType(pa.ExtensionType):\n",
    "    \"\"\"Use type as PyArrow StructType\"\"\"\n",
    "\n",
    "    def __init__(self):\n",
    "        super(UseType, self).__init__(\n",
    "            pa.struct(\n",
    "                [\n",
    "                    pa.field(\"id\", pa.string()),\n",
    "                    pa.field(\"data\", pa.list_(pa.float32())),\n",
    "                ]\n",
    "            ),\n",
    "            \"Use\",\n",
    "        )\n",
    "\n",
    "    def __arrow_ext_serialize__(self):\n",
    "        return b\"\"\n",
    "\n",
    "    @classmethod\n",
    "    def __arrow_ext_deserialize__(cls, storage_type, serialized):\n",
    "        return UseType()\n",
    "\n",
    "    def __arrow_ext_scalar_class__(self):\n",
    "        return UseScalar\n",
    "\n",
    "\n",
    "class UseScalar(pa.ExtensionScalar):\n",
    "    def as_py(self) -> Use:\n",
    "        return Use(self.value[\"id\"].as_py(), self.value[\"data\"].as_py())\n",
    "    \n",
    "class UseArray(pa.ExtensionArray):\n",
    "    @classmethod\n",
    "    def from_Use_list(self,use_list):\n",
    "        return pa.array( [use.to_dict() for use in use_list] ,UseType())\n",
    "    \n",
    "pa.register_extension_type(UseType())"
   ]
  },
  {
   "cell_type": "code",
   "execution_count": 4,
   "metadata": {},
   "outputs": [
    {
     "data": {
      "text/plain": [
       "UseType(StructType(struct<id: string, data: list<item: float>>))"
      ]
     },
     "execution_count": 4,
     "metadata": {},
     "output_type": "execute_result"
    }
   ],
   "source": [
    "UseType()"
   ]
  },
  {
   "cell_type": "code",
   "execution_count": 5,
   "metadata": {},
   "outputs": [],
   "source": [
    "\n",
    "class Test:\n",
    "\n",
    "    def __init__(self, use:Use, sca:float):\n",
    "        self.use = use\n",
    "        self.sca = sca\n",
    "\n",
    "    def to_dict(self):\n",
    "        return {\"use\":self.use, \"sca\":self.sca}\n",
    "    \n",
    "    def to_array(self):\n",
    "        return [self.use, self.sca]\n",
    "\n",
    "\n",
    "class TestType(pa.ExtensionType):\n",
    "    \"\"\"Test type as PyArrow StructType\"\"\"\n",
    "\n",
    "    def __init__(self):\n",
    "        super(TestType, self).__init__(\n",
    "            pa.struct(\n",
    "                [\n",
    "                    pa.field(\"use\", UseType(), nullable=True),\n",
    "                    pa.field(\"sca\", pa.float64(), nullable=True)\n",
    "                ]\n",
    "            ),\n",
    "            \"Test\",\n",
    "        )\n",
    "\n",
    "    def __arrow_ext_serialize__(self):\n",
    "        return b\"\"\n",
    "\n",
    "    @classmethod\n",
    "    def __arrow_ext_deserialize__(cls, storage_type, serialized):\n",
    "        return TestType()\n",
    "\n",
    "    def __arrow_ext_scalar_class__(self):\n",
    "        return TestScalar\n",
    "\n",
    "\n",
    "class TestScalar(pa.ExtensionScalar):\n",
    "    def as_py(self) -> Test:\n",
    "        return Test(self.value[\"use\"].as_py(), self.value[\"sca\"].as_py())\n",
    "    \n",
    "pa.register_extension_type(TestType())"
   ]
  },
  {
   "cell_type": "code",
   "execution_count": 6,
   "metadata": {},
   "outputs": [],
   "source": [
    "use1 = Use(\"u1\", [1.2, 3])\n",
    "use2 = Use(\"u2\", [1.7, 8.9])\n",
    "\n",
    "use_arr = UseArray.from_Use_list([use1, use2])\n",
    "\n",
    "Test1 = Test(use1, 3)\n",
    "Test2 = Test(use2,4)"
   ]
  },
  {
   "cell_type": "code",
   "execution_count": 7,
   "metadata": {},
   "outputs": [],
   "source": [
    "test_type = TestType()"
   ]
  },
  {
   "cell_type": "code",
   "execution_count": 8,
   "metadata": {},
   "outputs": [
    {
     "data": {
      "text/plain": [
       "<__main__.Use at 0x7f4983bb8d50>"
      ]
     },
     "execution_count": 8,
     "metadata": {},
     "output_type": "execute_result"
    }
   ],
   "source": [
    "\n",
    "sto_test = pa.StructArray.from_arrays([use_arr,[3.0,2.1]], names=[\"use\",\"sca\"])\n",
    "test_arr = pa.StructArray.from_arrays([sto_test], names=[\"Test\"])\n",
    "\n",
    "test_arr.take([0])[0]['Test']['use'].as_py()"
   ]
  },
  {
   "cell_type": "code",
   "execution_count": 9,
   "metadata": {},
   "outputs": [],
   "source": [
    "type_mapping = {\n",
    "    Use: UseType(),\n",
    "    Test: TestType()\n",
    "}\n",
    "\n",
    "\n",
    "def convert_annotation_list_to_dict(annotation_list):\n",
    "    result_dict = {}\n",
    "\n",
    "    if len(annotation_list) == 0:\n",
    "        return result_dict\n",
    "\n",
    "    attributes = annotation_list[0].__dict__.keys()\n",
    "\n",
    "    for attr in attributes:\n",
    "        attr_values = [getattr(annotation, attr) for annotation in annotation_list]\n",
    "\n",
    "        if isinstance(attr_values[0], tuple(type_mapping.keys())):\n",
    "            attr_type = type_mapping[type(attr_values[0])]\n",
    "            attr_values = pa.array([value.to_dict() for value in attr_values], type=attr_type)\n",
    "            \n",
    "        result_dict[attr] = pa.array(attr_values)\n",
    "\n",
    "    return result_dict\n",
    "\n",
    "dict_arr = convert_annotation_list_to_dict([Test1,Test2])"
   ]
  },
  {
   "cell_type": "code",
   "execution_count": 10,
   "metadata": {},
   "outputs": [
    {
     "data": {
      "text/plain": [
       "<pyarrow.lib.StructArray object at 0x7f4982b0fca0>\n",
       "-- is_valid: all not null\n",
       "-- child 0 type: extension<Use<UseType>>\n",
       "  -- is_valid: all not null\n",
       "  -- child 0 type: string\n",
       "    [\n",
       "      \"u1\",\n",
       "      \"u2\"\n",
       "    ]\n",
       "  -- child 1 type: list<item: float>\n",
       "    [\n",
       "      [\n",
       "        1.2,\n",
       "        3\n",
       "      ],\n",
       "      [\n",
       "        1.7,\n",
       "        8.9\n",
       "      ]\n",
       "    ]\n",
       "-- child 1 type: int64\n",
       "  [\n",
       "    3,\n",
       "    4\n",
       "  ]"
      ]
     },
     "execution_count": 10,
     "metadata": {},
     "output_type": "execute_result"
    }
   ],
   "source": [
    "arr = pa.StructArray.from_arrays(list(dict_arr.values()),names= list(dict_arr.keys()))\n",
    "arr\n",
    "\n"
   ]
  },
  {
   "cell_type": "code",
   "execution_count": 12,
   "metadata": {},
   "outputs": [
    {
     "data": {
      "text/plain": [
       "pyarrow.Table\n",
       "test: struct<use: extension<Use<UseType>>, sca: int64>\n",
       "  child 0, use: extension<Use<UseType>>\n",
       "  child 1, sca: int64\n",
       "----\n",
       "test: [\n",
       "  -- is_valid: all not null\n",
       "  -- child 0 type: extension<Use<UseType>>\n",
       "    -- is_valid: all not null\n",
       "    -- child 0 type: string\n",
       "[\"u1\",\"u2\"]\n",
       "    -- child 1 type: list<item: float>\n",
       "[[1.2,3],[1.7,8.9]]\n",
       "  -- child 1 type: int64\n",
       "[3,4]]"
      ]
     },
     "execution_count": 12,
     "metadata": {},
     "output_type": "execute_result"
    }
   ],
   "source": [
    "\n",
    "table = pa.Table.from_arrays([arr], names = ['test'])\n",
    "\n",
    "pq.write_table(table,\"test_so.parquet\")\n",
    "\n",
    "table = pq.read_table(\"test_so.parquet\")\n",
    "\n",
    "table\n",
    "\n"
   ]
  },
  {
   "cell_type": "code",
   "execution_count": 13,
   "metadata": {},
   "outputs": [
    {
     "data": {
      "text/plain": [
       "[{'test': {'use': <__main__.Use at 0x7f4990386c50>, 'sca': 3}}]"
      ]
     },
     "execution_count": 13,
     "metadata": {},
     "output_type": "execute_result"
    }
   ],
   "source": [
    "row0 = table.take([0])\n",
    "row0.to_pylist()"
   ]
  }
 ],
 "metadata": {
  "kernelspec": {
   "display_name": "pixano",
   "language": "python",
   "name": "python3"
  },
  "language_info": {
   "codemirror_mode": {
    "name": "ipython",
    "version": 3
   },
   "file_extension": ".py",
   "mimetype": "text/x-python",
   "name": "python",
   "nbconvert_exporter": "python",
   "pygments_lexer": "ipython3",
   "version": "3.11.3"
  },
  "orig_nbformat": 4
 },
 "nbformat": 4,
 "nbformat_minor": 2
}
